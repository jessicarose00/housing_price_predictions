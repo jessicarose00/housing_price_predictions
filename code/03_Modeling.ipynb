{
 "cells": [
  {
   "cell_type": "markdown",
   "metadata": {},
   "source": [
    "# Modeling"
   ]
  },
  {
   "cell_type": "markdown",
   "metadata": {},
   "source": [
    "Several linear regression models were tested using different variables to determine which factors have the biggest role in determining the price of a home. Lasso and ridge regularization methods are used to simplify the models."
   ]
  },
  {
   "cell_type": "code",
   "execution_count": 146,
   "metadata": {},
   "outputs": [],
   "source": [
    "import pandas as pd\n",
    "import numpy as np\n",
    "import matplotlib.pyplot as plt\n",
    "import seaborn as sns\n",
    "from sklearn.linear_model import LinearRegression, Ridge, Lasso, RidgeCV, LassoCV\n",
    "from sklearn.model_selection import train_test_split, KFold, cross_val_score\n",
    "from sklearn.preprocessing import PolynomialFeatures, StandardScaler\n",
    "from sklearn.metrics import mean_squared_error, r2_score"
   ]
  },
  {
   "cell_type": "code",
   "execution_count": 147,
   "metadata": {},
   "outputs": [],
   "source": [
    "# read in the clean test and train datasets\n",
    "df_train = pd.read_csv('../data/train_clean.csv')\n",
    "df_train.set_index('Id', inplace=True)\n",
    "\n",
    "df_test = pd.read_csv('../data/test_clean.csv')\n",
    "df_test.set_index('Id', inplace=True)"
   ]
  },
  {
   "cell_type": "code",
   "execution_count": 148,
   "metadata": {},
   "outputs": [
    {
     "data": {
      "text/plain": [
       "(2049, 79)"
      ]
     },
     "execution_count": 148,
     "metadata": {},
     "output_type": "execute_result"
    }
   ],
   "source": [
    "# check the shape of df_train\n",
    "df_train.shape"
   ]
  },
  {
   "cell_type": "code",
   "execution_count": 149,
   "metadata": {},
   "outputs": [
    {
     "data": {
      "text/plain": [
       "(878, 77)"
      ]
     },
     "execution_count": 149,
     "metadata": {},
     "output_type": "execute_result"
    }
   ],
   "source": [
    "# check the shape of df_test\n",
    "df_test.shape"
   ]
  },
  {
   "cell_type": "code",
   "execution_count": 150,
   "metadata": {},
   "outputs": [],
   "source": [
    "# Instantiate our linear regression object: \n",
    "lr = LinearRegression()"
   ]
  },
  {
   "cell_type": "markdown",
   "metadata": {},
   "source": [
    "## Model 1: Classic Linear Regression"
   ]
  },
  {
   "cell_type": "code",
   "execution_count": 185,
   "metadata": {},
   "outputs": [],
   "source": [
    "# Create X and y for train and test datasets\n",
    "# This model used singular features and polynomial features\n",
    "\n",
    "features2 = ['overall qual gr liv area',\n",
    "            'overall qual garage area',\n",
    "            'gr liv area garage area',\n",
    "            'gr liv area',\n",
    "            'overall qual', \n",
    "             'garage cars', \n",
    "             'total bsmt sf', \n",
    "             '1st flr sf', \n",
    "             'bsmt qual', \n",
    "             'year built', 'year remod/add', 'full bath', 'totrms abvgrd', 'mas vnr area',\n",
    "             'fireplaces', 'heating qc', 'bsmtfin sf 1', 'open porch sf', 'wood deck sf', 'lot area']\n",
    "\n",
    "X_train2 = df_train[features2]\n",
    "y_train2 = df_train['saleprice']"
   ]
  },
  {
   "cell_type": "code",
   "execution_count": 186,
   "metadata": {},
   "outputs": [],
   "source": [
    "# Scale X_train2\n",
    "ss = StandardScaler()\n",
    "ss.fit(X_train2)\n",
    "X_train2_sc = ss.fit_transform(X_train2)"
   ]
  },
  {
   "cell_type": "code",
   "execution_count": 187,
   "metadata": {},
   "outputs": [
    {
     "data": {
      "text/plain": [
       "(2049, 20)"
      ]
     },
     "execution_count": 187,
     "metadata": {},
     "output_type": "execute_result"
    }
   ],
   "source": [
    "X_train2_sc.shape"
   ]
  },
  {
   "cell_type": "code",
   "execution_count": 188,
   "metadata": {},
   "outputs": [
    {
     "data": {
      "text/plain": [
       "(2049,)"
      ]
     },
     "execution_count": 188,
     "metadata": {},
     "output_type": "execute_result"
    }
   ],
   "source": [
    "y_train2.shape"
   ]
  },
  {
   "cell_type": "code",
   "execution_count": 189,
   "metadata": {},
   "outputs": [
    {
     "data": {
      "text/plain": [
       "array([0.84410647, 0.8804128 , 0.75744251, 0.88234151, 0.77208004])"
      ]
     },
     "execution_count": 189,
     "metadata": {},
     "output_type": "execute_result"
    }
   ],
   "source": [
    "# Get cross val scores\n",
    "cross_val_score(lr, X_train2_sc, y_train2, cv=5)"
   ]
  },
  {
   "cell_type": "code",
   "execution_count": 190,
   "metadata": {},
   "outputs": [
    {
     "data": {
      "text/plain": [
       "0.847106715851607"
      ]
     },
     "execution_count": 190,
     "metadata": {},
     "output_type": "execute_result"
    }
   ],
   "source": [
    "# Fit the model with training data\n",
    "lr.fit(X_train2_sc, y_train2)\n",
    "\n",
    "# Get the training score\n",
    "lr.score(X_train2_sc, y_train2)"
   ]
  },
  {
   "cell_type": "code",
   "execution_count": 191,
   "metadata": {},
   "outputs": [
    {
     "data": {
      "text/plain": [
       "array([176770.51944367, 239441.85852332, 119366.9795495 , ...,\n",
       "       165227.0897411 , 119520.4779878 , 201326.92337135])"
      ]
     },
     "execution_count": 191,
     "metadata": {},
     "output_type": "execute_result"
    }
   ],
   "source": [
    "# Generate predictions for x_test_sc\n",
    "pred_2 = lr.predict(X_train2_sc)\n",
    "pred_2"
   ]
  },
  {
   "cell_type": "code",
   "execution_count": 192,
   "metadata": {},
   "outputs": [
    {
     "data": {
      "text/plain": [
       "30986.4361387324"
      ]
     },
     "execution_count": 192,
     "metadata": {},
     "output_type": "execute_result"
    }
   ],
   "source": [
    "# Calculate RMSE \n",
    "np.sqrt(mean_squared_error(y_train2, pred_2))"
   ]
  },
  {
   "cell_type": "markdown",
   "metadata": {},
   "source": [
    "**Explanation:** This model produces an RMSE score of 30,986 on the training data and 31,789 on the testing data. These scores are much improved from previous iterations of my model that took in fewer features.\n",
    "\n",
    "RMSE represents the level of error in units of the predictor, so we want it to be low. In previous model iterations (see model #2) the training data set was performing better than the testing data set. This indicated the model wasn't generalizing well to new, unseen data and suffering from high variance. I attempted to address this with regularization, which would significantly reduce the variance of the model, without substantial increase in its bias. "
   ]
  },
  {
   "cell_type": "markdown",
   "metadata": {},
   "source": [
    "## Model 2: Classic Linear Regression"
   ]
  },
  {
   "cell_type": "code",
   "execution_count": 96,
   "metadata": {},
   "outputs": [],
   "source": [
    "# Create X and y for train and test datasets\n",
    "# this model only used singular features, no polynomial or other features\n",
    "\n",
    "features = ['overall qual', 'exter qual', 'gr liv area', 'kitchen qual', 'garage area',\n",
    "           'garage cars', 'total bsmt sf', '1st flr sf', 'bsmt qual', 'year built']\n",
    "\n",
    "X_train = df_train[features]\n",
    "y_train = df_train['saleprice']"
   ]
  },
  {
   "cell_type": "code",
   "execution_count": 97,
   "metadata": {},
   "outputs": [],
   "source": [
    "# Scale X_train and then use it to transform X_train\n",
    "ss.fit(X_train)\n",
    "X_train_sc = ss.fit_transform(X_train)"
   ]
  },
  {
   "cell_type": "code",
   "execution_count": 98,
   "metadata": {
    "scrolled": true
   },
   "outputs": [
    {
     "data": {
      "text/plain": [
       "(2051, 10)"
      ]
     },
     "execution_count": 98,
     "metadata": {},
     "output_type": "execute_result"
    }
   ],
   "source": [
    "X_train.shape"
   ]
  },
  {
   "cell_type": "code",
   "execution_count": 99,
   "metadata": {},
   "outputs": [
    {
     "data": {
      "text/plain": [
       "(2051,)"
      ]
     },
     "execution_count": 99,
     "metadata": {},
     "output_type": "execute_result"
    }
   ],
   "source": [
    "y_train.shape"
   ]
  },
  {
   "cell_type": "code",
   "execution_count": 101,
   "metadata": {},
   "outputs": [
    {
     "data": {
      "text/plain": [
       "array([0.82082659, 0.8484504 , 0.74483482, 0.84357336, 0.76325471])"
      ]
     },
     "execution_count": 101,
     "metadata": {},
     "output_type": "execute_result"
    }
   ],
   "source": [
    "# Get cross val scores\n",
    "cross_val_score(lr, X_train_sc, y_train, cv=5)"
   ]
  },
  {
   "cell_type": "code",
   "execution_count": 102,
   "metadata": {},
   "outputs": [
    {
     "data": {
      "text/plain": [
       "0.8090747428098075"
      ]
     },
     "execution_count": 102,
     "metadata": {},
     "output_type": "execute_result"
    }
   ],
   "source": [
    "# Fit the model with training data\n",
    "lr.fit(X_train_sc, y_train)\n",
    "\n",
    "# Get the training score\n",
    "lr.score(X_train_sc, y_train)"
   ]
  },
  {
   "cell_type": "code",
   "execution_count": 103,
   "metadata": {},
   "outputs": [
    {
     "data": {
      "text/plain": [
       "array([179730.90520274, 238789.38402226, 129556.05791921, ...,\n",
       "       170327.10251186, 113724.23043415, 202156.19317004])"
      ]
     },
     "execution_count": 103,
     "metadata": {},
     "output_type": "execute_result"
    }
   ],
   "source": [
    "# Generate predictions for x_test_sc\n",
    "pred_1 = lr.predict(X_train_sc)\n",
    "pred_1"
   ]
  },
  {
   "cell_type": "code",
   "execution_count": 104,
   "metadata": {},
   "outputs": [
    {
     "data": {
      "text/plain": [
       "34623.62333804828"
      ]
     },
     "execution_count": 104,
     "metadata": {},
     "output_type": "execute_result"
    }
   ],
   "source": [
    "# Calculate RMSE \n",
    "np.sqrt(mean_squared_error(y_train, pred_1))"
   ]
  },
  {
   "cell_type": "markdown",
   "metadata": {},
   "source": [
    "## Model 3: Ridge Regression"
   ]
  },
  {
   "cell_type": "markdown",
   "metadata": {},
   "source": [
    "This model applies ridge regression to model #1."
   ]
  },
  {
   "cell_type": "code",
   "execution_count": 193,
   "metadata": {},
   "outputs": [],
   "source": [
    "# Instantiate.\n",
    "ridge_model=Ridge(alpha=10)"
   ]
  },
  {
   "cell_type": "code",
   "execution_count": 194,
   "metadata": {},
   "outputs": [],
   "source": [
    "# Set up a list of ridge alphas to check.\n",
    "# Generates 100 values equally between 0 and 5,\n",
    "# then converts them to alphas between 10^0 and 10^5.\n",
    "r_alphas = np.logspace(0, 5, 100)\n",
    "\n",
    "# Cross-validate over our list of ridge alphas.\n",
    "ridge_model = RidgeCV(alphas=r_alphas, scoring='r2', cv=5)\n",
    "\n",
    "# Fit model using best ridge alpha!\n",
    "ridge_model = ridge_model.fit(X_train2_sc, y_train2)"
   ]
  },
  {
   "cell_type": "code",
   "execution_count": 195,
   "metadata": {},
   "outputs": [
    {
     "data": {
      "text/plain": [
       "1.0"
      ]
     },
     "execution_count": 195,
     "metadata": {},
     "output_type": "execute_result"
    }
   ],
   "source": [
    "# Here is the optimal value of alpha\n",
    "ridge_model.alpha_"
   ]
  },
  {
   "cell_type": "code",
   "execution_count": 196,
   "metadata": {},
   "outputs": [
    {
     "name": "stdout",
     "output_type": "stream",
     "text": [
      "0.84708078832552\n"
     ]
    }
   ],
   "source": [
    "# Evaluate model using R2.\n",
    "print(ridge_model.score(X_train2_sc, y_train2))"
   ]
  },
  {
   "cell_type": "code",
   "execution_count": 197,
   "metadata": {},
   "outputs": [
    {
     "data": {
      "text/plain": [
       "array([ 58085.70199595,  57094.92159054, -54664.13503405,   5850.41999794,\n",
       "       -21031.75956748,   3186.71148543,   -530.81779733,   6042.59674559,\n",
       "         5230.24395624,   4390.32206144,   4748.15963889,    262.3792611 ,\n",
       "          587.02750398,   3739.16530564,   5156.41634916,   4416.82386488,\n",
       "         7460.81460371,   -111.82514063,   2310.34594037,   5177.85011251])"
      ]
     },
     "execution_count": 197,
     "metadata": {},
     "output_type": "execute_result"
    }
   ],
   "source": [
    "ridge_model.coef_"
   ]
  },
  {
   "cell_type": "markdown",
   "metadata": {},
   "source": [
    "## Model 4: Lasso"
   ]
  },
  {
   "cell_type": "markdown",
   "metadata": {},
   "source": [
    "This model applies ridge regression to model #1."
   ]
  },
  {
   "cell_type": "code",
   "execution_count": 198,
   "metadata": {},
   "outputs": [],
   "source": [
    "# Set up a list of Lasso alphas to check.\n",
    "l_alphas = np.logspace(-3, 0, 100)\n",
    "\n",
    "# Cross-validate over our list of Lasso alphas.\n",
    "lasso_model = LassoCV(alphas=l_alphas, cv=5, max_iter=5000)\n",
    "\n",
    "# Fit model using best Lasso alpha\n",
    "lasso_model = lasso_model.fit(X_train2_sc, y_train2)"
   ]
  },
  {
   "cell_type": "code",
   "execution_count": 199,
   "metadata": {},
   "outputs": [
    {
     "data": {
      "text/plain": [
       "1.0"
      ]
     },
     "execution_count": 199,
     "metadata": {},
     "output_type": "execute_result"
    }
   ],
   "source": [
    "# Here is the optimal value of alpha\n",
    "lasso_model.alpha_"
   ]
  },
  {
   "cell_type": "code",
   "execution_count": 200,
   "metadata": {},
   "outputs": [
    {
     "name": "stdout",
     "output_type": "stream",
     "text": [
      "0.8471066705137267\n"
     ]
    }
   ],
   "source": [
    "print(lasso_model.score(X_train2_sc, y_train2))"
   ]
  },
  {
   "cell_type": "code",
   "execution_count": 201,
   "metadata": {},
   "outputs": [
    {
     "data": {
      "text/plain": [
       "array([ 60045.95244198,  58511.87752413, -56460.54723518,   5534.10728502,\n",
       "       -22440.30811877,   3259.202792  ,   -511.59092847,   5996.73063901,\n",
       "         5191.23287338,   4421.3798131 ,   4734.97553988,    272.10278336,\n",
       "          502.06981351,   3684.20906427,   5172.80204361,   4417.95021099,\n",
       "         7476.03335328,   -116.60544614,   2317.03345153,   5193.66835051])"
      ]
     },
     "execution_count": 201,
     "metadata": {},
     "output_type": "execute_result"
    }
   ],
   "source": [
    "lasso_model.coef_"
   ]
  },
  {
   "cell_type": "markdown",
   "metadata": {},
   "source": [
    "# Kaggle Submission #1: Model 2"
   ]
  },
  {
   "cell_type": "code",
   "execution_count": 105,
   "metadata": {},
   "outputs": [],
   "source": [
    "# Create a dataframe of our features from our testing data\n",
    "X_kaggle = df_test[features]"
   ]
  },
  {
   "cell_type": "code",
   "execution_count": 106,
   "metadata": {},
   "outputs": [],
   "source": [
    "# Apply standard scalar to kaggle test data\n",
    "X_test_Kaggle_sc = ss.transform(X_kaggle)"
   ]
  },
  {
   "cell_type": "code",
   "execution_count": 107,
   "metadata": {},
   "outputs": [
    {
     "name": "stderr",
     "output_type": "stream",
     "text": [
      "/Users/jessicaertel/anaconda3/lib/python3.7/site-packages/ipykernel_launcher.py:2: SettingWithCopyWarning: \n",
      "A value is trying to be set on a copy of a slice from a DataFrame.\n",
      "Try using .loc[row_indexer,col_indexer] = value instead\n",
      "\n",
      "See the caveats in the documentation: http://pandas.pydata.org/pandas-docs/stable/user_guide/indexing.html#returning-a-view-versus-a-copy\n",
      "  \n"
     ]
    },
    {
     "data": {
      "text/html": [
       "<div>\n",
       "<style scoped>\n",
       "    .dataframe tbody tr th:only-of-type {\n",
       "        vertical-align: middle;\n",
       "    }\n",
       "\n",
       "    .dataframe tbody tr th {\n",
       "        vertical-align: top;\n",
       "    }\n",
       "\n",
       "    .dataframe thead th {\n",
       "        text-align: right;\n",
       "    }\n",
       "</style>\n",
       "<table border=\"1\" class=\"dataframe\">\n",
       "  <thead>\n",
       "    <tr style=\"text-align: right;\">\n",
       "      <th></th>\n",
       "      <th>overall qual</th>\n",
       "      <th>exter qual</th>\n",
       "      <th>gr liv area</th>\n",
       "      <th>kitchen qual</th>\n",
       "      <th>garage area</th>\n",
       "      <th>garage cars</th>\n",
       "      <th>total bsmt sf</th>\n",
       "      <th>1st flr sf</th>\n",
       "      <th>bsmt qual</th>\n",
       "      <th>year built</th>\n",
       "      <th>saleprice</th>\n",
       "    </tr>\n",
       "    <tr>\n",
       "      <th>Id</th>\n",
       "      <th></th>\n",
       "      <th></th>\n",
       "      <th></th>\n",
       "      <th></th>\n",
       "      <th></th>\n",
       "      <th></th>\n",
       "      <th></th>\n",
       "      <th></th>\n",
       "      <th></th>\n",
       "      <th></th>\n",
       "      <th></th>\n",
       "    </tr>\n",
       "  </thead>\n",
       "  <tbody>\n",
       "    <tr>\n",
       "      <th>2658</th>\n",
       "      <td>6</td>\n",
       "      <td>3</td>\n",
       "      <td>1928</td>\n",
       "      <td>2</td>\n",
       "      <td>440</td>\n",
       "      <td>1</td>\n",
       "      <td>1020</td>\n",
       "      <td>908</td>\n",
       "      <td>2</td>\n",
       "      <td>1910</td>\n",
       "      <td>138876.358784</td>\n",
       "    </tr>\n",
       "    <tr>\n",
       "      <th>2718</th>\n",
       "      <td>5</td>\n",
       "      <td>3</td>\n",
       "      <td>1967</td>\n",
       "      <td>3</td>\n",
       "      <td>580</td>\n",
       "      <td>2</td>\n",
       "      <td>1967</td>\n",
       "      <td>1967</td>\n",
       "      <td>4</td>\n",
       "      <td>1977</td>\n",
       "      <td>207404.624336</td>\n",
       "    </tr>\n",
       "    <tr>\n",
       "      <th>2414</th>\n",
       "      <td>7</td>\n",
       "      <td>4</td>\n",
       "      <td>1496</td>\n",
       "      <td>4</td>\n",
       "      <td>426</td>\n",
       "      <td>2</td>\n",
       "      <td>654</td>\n",
       "      <td>664</td>\n",
       "      <td>4</td>\n",
       "      <td>2006</td>\n",
       "      <td>201680.618718</td>\n",
       "    </tr>\n",
       "    <tr>\n",
       "      <th>1989</th>\n",
       "      <td>5</td>\n",
       "      <td>4</td>\n",
       "      <td>968</td>\n",
       "      <td>3</td>\n",
       "      <td>480</td>\n",
       "      <td>2</td>\n",
       "      <td>968</td>\n",
       "      <td>968</td>\n",
       "      <td>3</td>\n",
       "      <td>1923</td>\n",
       "      <td>132298.606142</td>\n",
       "    </tr>\n",
       "    <tr>\n",
       "      <th>625</th>\n",
       "      <td>6</td>\n",
       "      <td>3</td>\n",
       "      <td>1394</td>\n",
       "      <td>3</td>\n",
       "      <td>514</td>\n",
       "      <td>2</td>\n",
       "      <td>1394</td>\n",
       "      <td>1394</td>\n",
       "      <td>4</td>\n",
       "      <td>1963</td>\n",
       "      <td>175224.888234</td>\n",
       "    </tr>\n",
       "  </tbody>\n",
       "</table>\n",
       "</div>"
      ],
      "text/plain": [
       "      overall qual  exter qual  gr liv area  kitchen qual  garage area  \\\n",
       "Id                                                                       \n",
       "2658             6           3         1928             2          440   \n",
       "2718             5           3         1967             3          580   \n",
       "2414             7           4         1496             4          426   \n",
       "1989             5           4          968             3          480   \n",
       "625              6           3         1394             3          514   \n",
       "\n",
       "      garage cars  total bsmt sf  1st flr sf  bsmt qual  year built  \\\n",
       "Id                                                                    \n",
       "2658            1           1020         908          2        1910   \n",
       "2718            2           1967        1967          4        1977   \n",
       "2414            2            654         664          4        2006   \n",
       "1989            2            968         968          3        1923   \n",
       "625             2           1394        1394          4        1963   \n",
       "\n",
       "          saleprice  \n",
       "Id                   \n",
       "2658  138876.358784  \n",
       "2718  207404.624336  \n",
       "2414  201680.618718  \n",
       "1989  132298.606142  \n",
       "625   175224.888234  "
      ]
     },
     "execution_count": 107,
     "metadata": {},
     "output_type": "execute_result"
    }
   ],
   "source": [
    "# Make predictions and save those predictions to a new column\n",
    "X_kaggle['saleprice'] = lr.predict(X_test_Kaggle_sc)\n",
    "X_kaggle.head()"
   ]
  },
  {
   "cell_type": "code",
   "execution_count": 108,
   "metadata": {},
   "outputs": [
    {
     "data": {
      "text/html": [
       "<div>\n",
       "<style scoped>\n",
       "    .dataframe tbody tr th:only-of-type {\n",
       "        vertical-align: middle;\n",
       "    }\n",
       "\n",
       "    .dataframe tbody tr th {\n",
       "        vertical-align: top;\n",
       "    }\n",
       "\n",
       "    .dataframe thead th {\n",
       "        text-align: right;\n",
       "    }\n",
       "</style>\n",
       "<table border=\"1\" class=\"dataframe\">\n",
       "  <thead>\n",
       "    <tr style=\"text-align: right;\">\n",
       "      <th></th>\n",
       "      <th>saleprice</th>\n",
       "    </tr>\n",
       "    <tr>\n",
       "      <th>Id</th>\n",
       "      <th></th>\n",
       "    </tr>\n",
       "  </thead>\n",
       "  <tbody>\n",
       "    <tr>\n",
       "      <th>2658</th>\n",
       "      <td>138876.358784</td>\n",
       "    </tr>\n",
       "    <tr>\n",
       "      <th>2718</th>\n",
       "      <td>207404.624336</td>\n",
       "    </tr>\n",
       "    <tr>\n",
       "      <th>2414</th>\n",
       "      <td>201680.618718</td>\n",
       "    </tr>\n",
       "    <tr>\n",
       "      <th>1989</th>\n",
       "      <td>132298.606142</td>\n",
       "    </tr>\n",
       "    <tr>\n",
       "      <th>625</th>\n",
       "      <td>175224.888234</td>\n",
       "    </tr>\n",
       "  </tbody>\n",
       "</table>\n",
       "</div>"
      ],
      "text/plain": [
       "          saleprice\n",
       "Id                 \n",
       "2658  138876.358784\n",
       "2718  207404.624336\n",
       "2414  201680.618718\n",
       "1989  132298.606142\n",
       "625   175224.888234"
      ]
     },
     "execution_count": 108,
     "metadata": {},
     "output_type": "execute_result"
    }
   ],
   "source": [
    "# Create a new dataframe of JUST our predictions\n",
    "output = X_kaggle[['saleprice']]\n",
    "output.head()"
   ]
  },
  {
   "cell_type": "code",
   "execution_count": 109,
   "metadata": {},
   "outputs": [],
   "source": [
    "# Saving our predictions to our datasets folder\n",
    "output.to_csv(\"../data/third_submission.csv\")"
   ]
  },
  {
   "cell_type": "markdown",
   "metadata": {},
   "source": [
    "# Kaggle Submission #2: Model 1"
   ]
  },
  {
   "cell_type": "code",
   "execution_count": 202,
   "metadata": {},
   "outputs": [],
   "source": [
    "# Create a dataframe of our features from our testing data\n",
    "X_kaggle2 = df_test[features2]"
   ]
  },
  {
   "cell_type": "code",
   "execution_count": 203,
   "metadata": {
    "scrolled": true
   },
   "outputs": [
    {
     "data": {
      "text/html": [
       "<div>\n",
       "<style scoped>\n",
       "    .dataframe tbody tr th:only-of-type {\n",
       "        vertical-align: middle;\n",
       "    }\n",
       "\n",
       "    .dataframe tbody tr th {\n",
       "        vertical-align: top;\n",
       "    }\n",
       "\n",
       "    .dataframe thead th {\n",
       "        text-align: right;\n",
       "    }\n",
       "</style>\n",
       "<table border=\"1\" class=\"dataframe\">\n",
       "  <thead>\n",
       "    <tr style=\"text-align: right;\">\n",
       "      <th></th>\n",
       "      <th>overall qual gr liv area</th>\n",
       "      <th>overall qual garage area</th>\n",
       "      <th>gr liv area garage area</th>\n",
       "      <th>gr liv area</th>\n",
       "      <th>overall qual</th>\n",
       "      <th>garage cars</th>\n",
       "      <th>total bsmt sf</th>\n",
       "      <th>1st flr sf</th>\n",
       "      <th>bsmt qual</th>\n",
       "      <th>year built</th>\n",
       "      <th>year remod/add</th>\n",
       "      <th>full bath</th>\n",
       "      <th>totrms abvgrd</th>\n",
       "      <th>mas vnr area</th>\n",
       "      <th>fireplaces</th>\n",
       "      <th>heating qc</th>\n",
       "      <th>bsmtfin sf 1</th>\n",
       "      <th>open porch sf</th>\n",
       "      <th>wood deck sf</th>\n",
       "      <th>lot area</th>\n",
       "    </tr>\n",
       "    <tr>\n",
       "      <th>Id</th>\n",
       "      <th></th>\n",
       "      <th></th>\n",
       "      <th></th>\n",
       "      <th></th>\n",
       "      <th></th>\n",
       "      <th></th>\n",
       "      <th></th>\n",
       "      <th></th>\n",
       "      <th></th>\n",
       "      <th></th>\n",
       "      <th></th>\n",
       "      <th></th>\n",
       "      <th></th>\n",
       "      <th></th>\n",
       "      <th></th>\n",
       "      <th></th>\n",
       "      <th></th>\n",
       "      <th></th>\n",
       "      <th></th>\n",
       "      <th></th>\n",
       "    </tr>\n",
       "  </thead>\n",
       "  <tbody>\n",
       "    <tr>\n",
       "      <th>2658</th>\n",
       "      <td>11568.0</td>\n",
       "      <td>2640.0</td>\n",
       "      <td>848320.0</td>\n",
       "      <td>1928</td>\n",
       "      <td>6</td>\n",
       "      <td>1</td>\n",
       "      <td>1020</td>\n",
       "      <td>908</td>\n",
       "      <td>2</td>\n",
       "      <td>1910</td>\n",
       "      <td>1950</td>\n",
       "      <td>2</td>\n",
       "      <td>9</td>\n",
       "      <td>0.0</td>\n",
       "      <td>0</td>\n",
       "      <td>4</td>\n",
       "      <td>0</td>\n",
       "      <td>60</td>\n",
       "      <td>0</td>\n",
       "      <td>9142</td>\n",
       "    </tr>\n",
       "    <tr>\n",
       "      <th>2718</th>\n",
       "      <td>9835.0</td>\n",
       "      <td>2900.0</td>\n",
       "      <td>1140860.0</td>\n",
       "      <td>1967</td>\n",
       "      <td>5</td>\n",
       "      <td>2</td>\n",
       "      <td>1967</td>\n",
       "      <td>1967</td>\n",
       "      <td>4</td>\n",
       "      <td>1977</td>\n",
       "      <td>1977</td>\n",
       "      <td>2</td>\n",
       "      <td>10</td>\n",
       "      <td>0.0</td>\n",
       "      <td>0</td>\n",
       "      <td>3</td>\n",
       "      <td>0</td>\n",
       "      <td>0</td>\n",
       "      <td>170</td>\n",
       "      <td>9662</td>\n",
       "    </tr>\n",
       "    <tr>\n",
       "      <th>2414</th>\n",
       "      <td>10472.0</td>\n",
       "      <td>2982.0</td>\n",
       "      <td>637296.0</td>\n",
       "      <td>1496</td>\n",
       "      <td>7</td>\n",
       "      <td>2</td>\n",
       "      <td>654</td>\n",
       "      <td>664</td>\n",
       "      <td>4</td>\n",
       "      <td>2006</td>\n",
       "      <td>2006</td>\n",
       "      <td>2</td>\n",
       "      <td>7</td>\n",
       "      <td>0.0</td>\n",
       "      <td>1</td>\n",
       "      <td>5</td>\n",
       "      <td>554</td>\n",
       "      <td>24</td>\n",
       "      <td>100</td>\n",
       "      <td>17104</td>\n",
       "    </tr>\n",
       "    <tr>\n",
       "      <th>1989</th>\n",
       "      <td>4840.0</td>\n",
       "      <td>2400.0</td>\n",
       "      <td>464640.0</td>\n",
       "      <td>968</td>\n",
       "      <td>5</td>\n",
       "      <td>2</td>\n",
       "      <td>968</td>\n",
       "      <td>968</td>\n",
       "      <td>3</td>\n",
       "      <td>1923</td>\n",
       "      <td>2006</td>\n",
       "      <td>1</td>\n",
       "      <td>5</td>\n",
       "      <td>0.0</td>\n",
       "      <td>0</td>\n",
       "      <td>3</td>\n",
       "      <td>0</td>\n",
       "      <td>0</td>\n",
       "      <td>0</td>\n",
       "      <td>8520</td>\n",
       "    </tr>\n",
       "    <tr>\n",
       "      <th>625</th>\n",
       "      <td>8364.0</td>\n",
       "      <td>3084.0</td>\n",
       "      <td>716516.0</td>\n",
       "      <td>1394</td>\n",
       "      <td>6</td>\n",
       "      <td>2</td>\n",
       "      <td>1394</td>\n",
       "      <td>1394</td>\n",
       "      <td>4</td>\n",
       "      <td>1963</td>\n",
       "      <td>1963</td>\n",
       "      <td>1</td>\n",
       "      <td>6</td>\n",
       "      <td>247.0</td>\n",
       "      <td>2</td>\n",
       "      <td>4</td>\n",
       "      <td>609</td>\n",
       "      <td>76</td>\n",
       "      <td>0</td>\n",
       "      <td>9500</td>\n",
       "    </tr>\n",
       "  </tbody>\n",
       "</table>\n",
       "</div>"
      ],
      "text/plain": [
       "      overall qual gr liv area  overall qual garage area  \\\n",
       "Id                                                         \n",
       "2658                   11568.0                    2640.0   \n",
       "2718                    9835.0                    2900.0   \n",
       "2414                   10472.0                    2982.0   \n",
       "1989                    4840.0                    2400.0   \n",
       "625                     8364.0                    3084.0   \n",
       "\n",
       "      gr liv area garage area  gr liv area  overall qual  garage cars  \\\n",
       "Id                                                                      \n",
       "2658                 848320.0         1928             6            1   \n",
       "2718                1140860.0         1967             5            2   \n",
       "2414                 637296.0         1496             7            2   \n",
       "1989                 464640.0          968             5            2   \n",
       "625                  716516.0         1394             6            2   \n",
       "\n",
       "      total bsmt sf  1st flr sf  bsmt qual  year built  year remod/add  \\\n",
       "Id                                                                       \n",
       "2658           1020         908          2        1910            1950   \n",
       "2718           1967        1967          4        1977            1977   \n",
       "2414            654         664          4        2006            2006   \n",
       "1989            968         968          3        1923            2006   \n",
       "625            1394        1394          4        1963            1963   \n",
       "\n",
       "      full bath  totrms abvgrd  mas vnr area  fireplaces  heating qc  \\\n",
       "Id                                                                     \n",
       "2658          2              9           0.0           0           4   \n",
       "2718          2             10           0.0           0           3   \n",
       "2414          2              7           0.0           1           5   \n",
       "1989          1              5           0.0           0           3   \n",
       "625           1              6         247.0           2           4   \n",
       "\n",
       "      bsmtfin sf 1  open porch sf  wood deck sf  lot area  \n",
       "Id                                                         \n",
       "2658             0             60             0      9142  \n",
       "2718             0              0           170      9662  \n",
       "2414           554             24           100     17104  \n",
       "1989             0              0             0      8520  \n",
       "625            609             76             0      9500  "
      ]
     },
     "execution_count": 203,
     "metadata": {},
     "output_type": "execute_result"
    }
   ],
   "source": [
    "X_kaggle2.head()"
   ]
  },
  {
   "cell_type": "code",
   "execution_count": 204,
   "metadata": {},
   "outputs": [],
   "source": [
    "# Apply standard scalar to kaggle test data\n",
    "X_kaggle2_sc = ss.transform(X_kaggle2)"
   ]
  },
  {
   "cell_type": "code",
   "execution_count": 205,
   "metadata": {},
   "outputs": [
    {
     "name": "stderr",
     "output_type": "stream",
     "text": [
      "/Users/jessicaertel/anaconda3/lib/python3.7/site-packages/ipykernel_launcher.py:2: SettingWithCopyWarning: \n",
      "A value is trying to be set on a copy of a slice from a DataFrame.\n",
      "Try using .loc[row_indexer,col_indexer] = value instead\n",
      "\n",
      "See the caveats in the documentation: http://pandas.pydata.org/pandas-docs/stable/user_guide/indexing.html#returning-a-view-versus-a-copy\n",
      "  \n"
     ]
    },
    {
     "data": {
      "text/html": [
       "<div>\n",
       "<style scoped>\n",
       "    .dataframe tbody tr th:only-of-type {\n",
       "        vertical-align: middle;\n",
       "    }\n",
       "\n",
       "    .dataframe tbody tr th {\n",
       "        vertical-align: top;\n",
       "    }\n",
       "\n",
       "    .dataframe thead th {\n",
       "        text-align: right;\n",
       "    }\n",
       "</style>\n",
       "<table border=\"1\" class=\"dataframe\">\n",
       "  <thead>\n",
       "    <tr style=\"text-align: right;\">\n",
       "      <th></th>\n",
       "      <th>overall qual gr liv area</th>\n",
       "      <th>overall qual garage area</th>\n",
       "      <th>gr liv area garage area</th>\n",
       "      <th>gr liv area</th>\n",
       "      <th>overall qual</th>\n",
       "      <th>garage cars</th>\n",
       "      <th>total bsmt sf</th>\n",
       "      <th>1st flr sf</th>\n",
       "      <th>bsmt qual</th>\n",
       "      <th>year built</th>\n",
       "      <th>...</th>\n",
       "      <th>full bath</th>\n",
       "      <th>totrms abvgrd</th>\n",
       "      <th>mas vnr area</th>\n",
       "      <th>fireplaces</th>\n",
       "      <th>heating qc</th>\n",
       "      <th>bsmtfin sf 1</th>\n",
       "      <th>open porch sf</th>\n",
       "      <th>wood deck sf</th>\n",
       "      <th>lot area</th>\n",
       "      <th>saleprice</th>\n",
       "    </tr>\n",
       "    <tr>\n",
       "      <th>Id</th>\n",
       "      <th></th>\n",
       "      <th></th>\n",
       "      <th></th>\n",
       "      <th></th>\n",
       "      <th></th>\n",
       "      <th></th>\n",
       "      <th></th>\n",
       "      <th></th>\n",
       "      <th></th>\n",
       "      <th></th>\n",
       "      <th></th>\n",
       "      <th></th>\n",
       "      <th></th>\n",
       "      <th></th>\n",
       "      <th></th>\n",
       "      <th></th>\n",
       "      <th></th>\n",
       "      <th></th>\n",
       "      <th></th>\n",
       "      <th></th>\n",
       "      <th></th>\n",
       "    </tr>\n",
       "  </thead>\n",
       "  <tbody>\n",
       "    <tr>\n",
       "      <th>2658</th>\n",
       "      <td>11568.0</td>\n",
       "      <td>2640.0</td>\n",
       "      <td>848320.0</td>\n",
       "      <td>1928</td>\n",
       "      <td>6</td>\n",
       "      <td>1</td>\n",
       "      <td>1020</td>\n",
       "      <td>908</td>\n",
       "      <td>2</td>\n",
       "      <td>1910</td>\n",
       "      <td>...</td>\n",
       "      <td>2</td>\n",
       "      <td>9</td>\n",
       "      <td>0.0</td>\n",
       "      <td>0</td>\n",
       "      <td>4</td>\n",
       "      <td>0</td>\n",
       "      <td>60</td>\n",
       "      <td>0</td>\n",
       "      <td>9142</td>\n",
       "      <td>141639.412659</td>\n",
       "    </tr>\n",
       "    <tr>\n",
       "      <th>2718</th>\n",
       "      <td>9835.0</td>\n",
       "      <td>2900.0</td>\n",
       "      <td>1140860.0</td>\n",
       "      <td>1967</td>\n",
       "      <td>5</td>\n",
       "      <td>2</td>\n",
       "      <td>1967</td>\n",
       "      <td>1967</td>\n",
       "      <td>4</td>\n",
       "      <td>1977</td>\n",
       "      <td>...</td>\n",
       "      <td>2</td>\n",
       "      <td>10</td>\n",
       "      <td>0.0</td>\n",
       "      <td>0</td>\n",
       "      <td>3</td>\n",
       "      <td>0</td>\n",
       "      <td>0</td>\n",
       "      <td>170</td>\n",
       "      <td>9662</td>\n",
       "      <td>161028.178830</td>\n",
       "    </tr>\n",
       "    <tr>\n",
       "      <th>2414</th>\n",
       "      <td>10472.0</td>\n",
       "      <td>2982.0</td>\n",
       "      <td>637296.0</td>\n",
       "      <td>1496</td>\n",
       "      <td>7</td>\n",
       "      <td>2</td>\n",
       "      <td>654</td>\n",
       "      <td>664</td>\n",
       "      <td>4</td>\n",
       "      <td>2006</td>\n",
       "      <td>...</td>\n",
       "      <td>2</td>\n",
       "      <td>7</td>\n",
       "      <td>0.0</td>\n",
       "      <td>1</td>\n",
       "      <td>5</td>\n",
       "      <td>554</td>\n",
       "      <td>24</td>\n",
       "      <td>100</td>\n",
       "      <td>17104</td>\n",
       "      <td>208122.765470</td>\n",
       "    </tr>\n",
       "    <tr>\n",
       "      <th>1989</th>\n",
       "      <td>4840.0</td>\n",
       "      <td>2400.0</td>\n",
       "      <td>464640.0</td>\n",
       "      <td>968</td>\n",
       "      <td>5</td>\n",
       "      <td>2</td>\n",
       "      <td>968</td>\n",
       "      <td>968</td>\n",
       "      <td>3</td>\n",
       "      <td>1923</td>\n",
       "      <td>...</td>\n",
       "      <td>1</td>\n",
       "      <td>5</td>\n",
       "      <td>0.0</td>\n",
       "      <td>0</td>\n",
       "      <td>3</td>\n",
       "      <td>0</td>\n",
       "      <td>0</td>\n",
       "      <td>0</td>\n",
       "      <td>8520</td>\n",
       "      <td>115531.096444</td>\n",
       "    </tr>\n",
       "    <tr>\n",
       "      <th>625</th>\n",
       "      <td>8364.0</td>\n",
       "      <td>3084.0</td>\n",
       "      <td>716516.0</td>\n",
       "      <td>1394</td>\n",
       "      <td>6</td>\n",
       "      <td>2</td>\n",
       "      <td>1394</td>\n",
       "      <td>1394</td>\n",
       "      <td>4</td>\n",
       "      <td>1963</td>\n",
       "      <td>...</td>\n",
       "      <td>1</td>\n",
       "      <td>6</td>\n",
       "      <td>247.0</td>\n",
       "      <td>2</td>\n",
       "      <td>4</td>\n",
       "      <td>609</td>\n",
       "      <td>76</td>\n",
       "      <td>0</td>\n",
       "      <td>9500</td>\n",
       "      <td>187536.623641</td>\n",
       "    </tr>\n",
       "  </tbody>\n",
       "</table>\n",
       "<p>5 rows × 21 columns</p>\n",
       "</div>"
      ],
      "text/plain": [
       "      overall qual gr liv area  overall qual garage area  \\\n",
       "Id                                                         \n",
       "2658                   11568.0                    2640.0   \n",
       "2718                    9835.0                    2900.0   \n",
       "2414                   10472.0                    2982.0   \n",
       "1989                    4840.0                    2400.0   \n",
       "625                     8364.0                    3084.0   \n",
       "\n",
       "      gr liv area garage area  gr liv area  overall qual  garage cars  \\\n",
       "Id                                                                      \n",
       "2658                 848320.0         1928             6            1   \n",
       "2718                1140860.0         1967             5            2   \n",
       "2414                 637296.0         1496             7            2   \n",
       "1989                 464640.0          968             5            2   \n",
       "625                  716516.0         1394             6            2   \n",
       "\n",
       "      total bsmt sf  1st flr sf  bsmt qual  year built  ...  full bath  \\\n",
       "Id                                                      ...              \n",
       "2658           1020         908          2        1910  ...          2   \n",
       "2718           1967        1967          4        1977  ...          2   \n",
       "2414            654         664          4        2006  ...          2   \n",
       "1989            968         968          3        1923  ...          1   \n",
       "625            1394        1394          4        1963  ...          1   \n",
       "\n",
       "      totrms abvgrd  mas vnr area  fireplaces  heating qc  bsmtfin sf 1  \\\n",
       "Id                                                                        \n",
       "2658              9           0.0           0           4             0   \n",
       "2718             10           0.0           0           3             0   \n",
       "2414              7           0.0           1           5           554   \n",
       "1989              5           0.0           0           3             0   \n",
       "625               6         247.0           2           4           609   \n",
       "\n",
       "      open porch sf  wood deck sf  lot area      saleprice  \n",
       "Id                                                          \n",
       "2658             60             0      9142  141639.412659  \n",
       "2718              0           170      9662  161028.178830  \n",
       "2414             24           100     17104  208122.765470  \n",
       "1989              0             0      8520  115531.096444  \n",
       "625              76             0      9500  187536.623641  \n",
       "\n",
       "[5 rows x 21 columns]"
      ]
     },
     "execution_count": 205,
     "metadata": {},
     "output_type": "execute_result"
    }
   ],
   "source": [
    "# Make predictions and save those predictions to a new column\n",
    "X_kaggle2['saleprice'] = lr.predict(X_kaggle2_sc)\n",
    "X_kaggle2.head()"
   ]
  },
  {
   "cell_type": "code",
   "execution_count": 206,
   "metadata": {},
   "outputs": [
    {
     "data": {
      "text/html": [
       "<div>\n",
       "<style scoped>\n",
       "    .dataframe tbody tr th:only-of-type {\n",
       "        vertical-align: middle;\n",
       "    }\n",
       "\n",
       "    .dataframe tbody tr th {\n",
       "        vertical-align: top;\n",
       "    }\n",
       "\n",
       "    .dataframe thead th {\n",
       "        text-align: right;\n",
       "    }\n",
       "</style>\n",
       "<table border=\"1\" class=\"dataframe\">\n",
       "  <thead>\n",
       "    <tr style=\"text-align: right;\">\n",
       "      <th></th>\n",
       "      <th>saleprice</th>\n",
       "    </tr>\n",
       "    <tr>\n",
       "      <th>Id</th>\n",
       "      <th></th>\n",
       "    </tr>\n",
       "  </thead>\n",
       "  <tbody>\n",
       "    <tr>\n",
       "      <th>2658</th>\n",
       "      <td>141639.412659</td>\n",
       "    </tr>\n",
       "    <tr>\n",
       "      <th>2718</th>\n",
       "      <td>161028.178830</td>\n",
       "    </tr>\n",
       "    <tr>\n",
       "      <th>2414</th>\n",
       "      <td>208122.765470</td>\n",
       "    </tr>\n",
       "    <tr>\n",
       "      <th>1989</th>\n",
       "      <td>115531.096444</td>\n",
       "    </tr>\n",
       "    <tr>\n",
       "      <th>625</th>\n",
       "      <td>187536.623641</td>\n",
       "    </tr>\n",
       "  </tbody>\n",
       "</table>\n",
       "</div>"
      ],
      "text/plain": [
       "          saleprice\n",
       "Id                 \n",
       "2658  141639.412659\n",
       "2718  161028.178830\n",
       "2414  208122.765470\n",
       "1989  115531.096444\n",
       "625   187536.623641"
      ]
     },
     "execution_count": 206,
     "metadata": {},
     "output_type": "execute_result"
    }
   ],
   "source": [
    "# Create a new dataframe of JUST our predictions\n",
    "output2 = X_kaggle2[['saleprice']]\n",
    "output2.head()"
   ]
  },
  {
   "cell_type": "code",
   "execution_count": 207,
   "metadata": {},
   "outputs": [],
   "source": [
    "# Saving our predictions to our datasets folder\n",
    "output2.to_csv(\"../data/second_submission.csv\")"
   ]
  },
  {
   "cell_type": "code",
   "execution_count": null,
   "metadata": {},
   "outputs": [],
   "source": []
  }
 ],
 "metadata": {
  "kernelspec": {
   "display_name": "Python 3",
   "language": "python",
   "name": "python3"
  },
  "language_info": {
   "codemirror_mode": {
    "name": "ipython",
    "version": 3
   },
   "file_extension": ".py",
   "mimetype": "text/x-python",
   "name": "python",
   "nbconvert_exporter": "python",
   "pygments_lexer": "ipython3",
   "version": "3.7.6"
  },
  "toc": {
   "base_numbering": 1,
   "nav_menu": {},
   "number_sections": true,
   "sideBar": true,
   "skip_h1_title": false,
   "title_cell": "Table of Contents",
   "title_sidebar": "Contents",
   "toc_cell": false,
   "toc_position": {
    "height": "calc(100% - 180px)",
    "left": "10px",
    "top": "150px",
    "width": "165px"
   },
   "toc_section_display": true,
   "toc_window_display": true
  },
  "varInspector": {
   "cols": {
    "lenName": 16,
    "lenType": 16,
    "lenVar": 40
   },
   "kernels_config": {
    "python": {
     "delete_cmd_postfix": "",
     "delete_cmd_prefix": "del ",
     "library": "var_list.py",
     "varRefreshCmd": "print(var_dic_list())"
    },
    "r": {
     "delete_cmd_postfix": ") ",
     "delete_cmd_prefix": "rm(",
     "library": "var_list.r",
     "varRefreshCmd": "cat(var_dic_list()) "
    }
   },
   "types_to_exclude": [
    "module",
    "function",
    "builtin_function_or_method",
    "instance",
    "_Feature"
   ],
   "window_display": false
  }
 },
 "nbformat": 4,
 "nbformat_minor": 2
}
