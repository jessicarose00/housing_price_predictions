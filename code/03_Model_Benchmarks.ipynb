{
 "cells": [
  {
   "cell_type": "markdown",
   "metadata": {},
   "source": [
    "# Preprocessing and Modeling"
   ]
  },
  {
   "cell_type": "markdown",
   "metadata": {},
   "source": [
    "**Import Packages**"
   ]
  },
  {
   "cell_type": "code",
   "execution_count": 92,
   "metadata": {},
   "outputs": [],
   "source": [
    "import pandas as pd\n",
    "import numpy as np\n",
    "import matplotlib.pyplot as plt\n",
    "import seaborn as sns\n",
    "from sklearn.linear_model import LinearRegression, Ridge, Lasso, RidgeCV, LassoCV\n",
    "from sklearn.model_selection import train_test_split, KFold, cross_val_score\n",
    "from sklearn.preprocessing import PolynomialFeatures, StandardScaler\n",
    "from sklearn.metrics import mean_squared_error, r2_score"
   ]
  },
  {
   "cell_type": "markdown",
   "metadata": {},
   "source": [
    "**Read in Clean Data**"
   ]
  },
  {
   "cell_type": "code",
   "execution_count": 4,
   "metadata": {},
   "outputs": [],
   "source": [
    "df_train = pd.read_csv('../data/train_clean.csv')\n",
    "df_train.set_index('Id', inplace=True)\n",
    "df_test = pd.read_csv('../data/test_clean.csv')\n",
    "df_test.set_index('Id', inplace=True)"
   ]
  },
  {
   "cell_type": "code",
   "execution_count": 5,
   "metadata": {},
   "outputs": [
    {
     "data": {
      "text/plain": [
       "(2051, 74)"
      ]
     },
     "execution_count": 5,
     "metadata": {},
     "output_type": "execute_result"
    }
   ],
   "source": [
    "# check the shape of df_train\n",
    "df_train.shape"
   ]
  },
  {
   "cell_type": "code",
   "execution_count": 6,
   "metadata": {},
   "outputs": [
    {
     "data": {
      "text/plain": [
       "(878, 73)"
      ]
     },
     "execution_count": 6,
     "metadata": {},
     "output_type": "execute_result"
    }
   ],
   "source": [
    "# check the shape of df_test\n",
    "df_test.shape"
   ]
  },
  {
   "cell_type": "markdown",
   "metadata": {},
   "source": [
    "## Model 1: Linear Regression"
   ]
  },
  {
   "cell_type": "code",
   "execution_count": 7,
   "metadata": {
    "scrolled": true
   },
   "outputs": [
    {
     "data": {
      "text/html": [
       "<div>\n",
       "<style scoped>\n",
       "    .dataframe tbody tr th:only-of-type {\n",
       "        vertical-align: middle;\n",
       "    }\n",
       "\n",
       "    .dataframe tbody tr th {\n",
       "        vertical-align: top;\n",
       "    }\n",
       "\n",
       "    .dataframe thead th {\n",
       "        text-align: right;\n",
       "    }\n",
       "</style>\n",
       "<table border=\"1\" class=\"dataframe\">\n",
       "  <thead>\n",
       "    <tr style=\"text-align: right;\">\n",
       "      <th></th>\n",
       "      <th>pid</th>\n",
       "      <th>ms subclass</th>\n",
       "      <th>ms zoning</th>\n",
       "      <th>lot frontage</th>\n",
       "      <th>lot area</th>\n",
       "      <th>street</th>\n",
       "      <th>lot shape</th>\n",
       "      <th>land contour</th>\n",
       "      <th>utilities</th>\n",
       "      <th>lot config</th>\n",
       "      <th>...</th>\n",
       "      <th>paved drive</th>\n",
       "      <th>wood deck sf</th>\n",
       "      <th>open porch sf</th>\n",
       "      <th>enclosed porch</th>\n",
       "      <th>3ssn porch</th>\n",
       "      <th>screen porch</th>\n",
       "      <th>mo sold</th>\n",
       "      <th>yr sold</th>\n",
       "      <th>sale type</th>\n",
       "      <th>saleprice</th>\n",
       "    </tr>\n",
       "    <tr>\n",
       "      <th>Id</th>\n",
       "      <th></th>\n",
       "      <th></th>\n",
       "      <th></th>\n",
       "      <th></th>\n",
       "      <th></th>\n",
       "      <th></th>\n",
       "      <th></th>\n",
       "      <th></th>\n",
       "      <th></th>\n",
       "      <th></th>\n",
       "      <th></th>\n",
       "      <th></th>\n",
       "      <th></th>\n",
       "      <th></th>\n",
       "      <th></th>\n",
       "      <th></th>\n",
       "      <th></th>\n",
       "      <th></th>\n",
       "      <th></th>\n",
       "      <th></th>\n",
       "      <th></th>\n",
       "    </tr>\n",
       "  </thead>\n",
       "  <tbody>\n",
       "    <tr>\n",
       "      <th>109</th>\n",
       "      <td>533352170</td>\n",
       "      <td>60</td>\n",
       "      <td>RL</td>\n",
       "      <td>0.0</td>\n",
       "      <td>13517</td>\n",
       "      <td>Pave</td>\n",
       "      <td>IR1</td>\n",
       "      <td>Lvl</td>\n",
       "      <td>AllPub</td>\n",
       "      <td>CulDSac</td>\n",
       "      <td>...</td>\n",
       "      <td>Y</td>\n",
       "      <td>0</td>\n",
       "      <td>44</td>\n",
       "      <td>0</td>\n",
       "      <td>0</td>\n",
       "      <td>0</td>\n",
       "      <td>3</td>\n",
       "      <td>2010</td>\n",
       "      <td>WD</td>\n",
       "      <td>130500</td>\n",
       "    </tr>\n",
       "    <tr>\n",
       "      <th>544</th>\n",
       "      <td>531379050</td>\n",
       "      <td>60</td>\n",
       "      <td>RL</td>\n",
       "      <td>43.0</td>\n",
       "      <td>11492</td>\n",
       "      <td>Pave</td>\n",
       "      <td>IR1</td>\n",
       "      <td>Lvl</td>\n",
       "      <td>AllPub</td>\n",
       "      <td>CulDSac</td>\n",
       "      <td>...</td>\n",
       "      <td>Y</td>\n",
       "      <td>0</td>\n",
       "      <td>74</td>\n",
       "      <td>0</td>\n",
       "      <td>0</td>\n",
       "      <td>0</td>\n",
       "      <td>4</td>\n",
       "      <td>2009</td>\n",
       "      <td>WD</td>\n",
       "      <td>220000</td>\n",
       "    </tr>\n",
       "    <tr>\n",
       "      <th>153</th>\n",
       "      <td>535304180</td>\n",
       "      <td>20</td>\n",
       "      <td>RL</td>\n",
       "      <td>68.0</td>\n",
       "      <td>7922</td>\n",
       "      <td>Pave</td>\n",
       "      <td>Reg</td>\n",
       "      <td>Lvl</td>\n",
       "      <td>AllPub</td>\n",
       "      <td>Inside</td>\n",
       "      <td>...</td>\n",
       "      <td>Y</td>\n",
       "      <td>0</td>\n",
       "      <td>52</td>\n",
       "      <td>0</td>\n",
       "      <td>0</td>\n",
       "      <td>0</td>\n",
       "      <td>1</td>\n",
       "      <td>2010</td>\n",
       "      <td>WD</td>\n",
       "      <td>109000</td>\n",
       "    </tr>\n",
       "    <tr>\n",
       "      <th>318</th>\n",
       "      <td>916386060</td>\n",
       "      <td>60</td>\n",
       "      <td>RL</td>\n",
       "      <td>73.0</td>\n",
       "      <td>9802</td>\n",
       "      <td>Pave</td>\n",
       "      <td>Reg</td>\n",
       "      <td>Lvl</td>\n",
       "      <td>AllPub</td>\n",
       "      <td>Inside</td>\n",
       "      <td>...</td>\n",
       "      <td>Y</td>\n",
       "      <td>100</td>\n",
       "      <td>0</td>\n",
       "      <td>0</td>\n",
       "      <td>0</td>\n",
       "      <td>0</td>\n",
       "      <td>4</td>\n",
       "      <td>2010</td>\n",
       "      <td>WD</td>\n",
       "      <td>174000</td>\n",
       "    </tr>\n",
       "    <tr>\n",
       "      <th>255</th>\n",
       "      <td>906425045</td>\n",
       "      <td>50</td>\n",
       "      <td>RL</td>\n",
       "      <td>82.0</td>\n",
       "      <td>14235</td>\n",
       "      <td>Pave</td>\n",
       "      <td>IR1</td>\n",
       "      <td>Lvl</td>\n",
       "      <td>AllPub</td>\n",
       "      <td>Inside</td>\n",
       "      <td>...</td>\n",
       "      <td>N</td>\n",
       "      <td>0</td>\n",
       "      <td>59</td>\n",
       "      <td>0</td>\n",
       "      <td>0</td>\n",
       "      <td>0</td>\n",
       "      <td>3</td>\n",
       "      <td>2010</td>\n",
       "      <td>WD</td>\n",
       "      <td>138500</td>\n",
       "    </tr>\n",
       "  </tbody>\n",
       "</table>\n",
       "<p>5 rows × 74 columns</p>\n",
       "</div>"
      ],
      "text/plain": [
       "           pid  ms subclass ms zoning  lot frontage  lot area street  \\\n",
       "Id                                                                     \n",
       "109  533352170           60        RL           0.0     13517   Pave   \n",
       "544  531379050           60        RL          43.0     11492   Pave   \n",
       "153  535304180           20        RL          68.0      7922   Pave   \n",
       "318  916386060           60        RL          73.0      9802   Pave   \n",
       "255  906425045           50        RL          82.0     14235   Pave   \n",
       "\n",
       "    lot shape land contour utilities lot config  ... paved drive wood deck sf  \\\n",
       "Id                                               ...                            \n",
       "109       IR1          Lvl    AllPub    CulDSac  ...           Y            0   \n",
       "544       IR1          Lvl    AllPub    CulDSac  ...           Y            0   \n",
       "153       Reg          Lvl    AllPub     Inside  ...           Y            0   \n",
       "318       Reg          Lvl    AllPub     Inside  ...           Y          100   \n",
       "255       IR1          Lvl    AllPub     Inside  ...           N            0   \n",
       "\n",
       "    open porch sf enclosed porch 3ssn porch screen porch  mo sold  yr sold  \\\n",
       "Id                                                                           \n",
       "109            44              0          0            0        3     2010   \n",
       "544            74              0          0            0        4     2009   \n",
       "153            52              0          0            0        1     2010   \n",
       "318             0              0          0            0        4     2010   \n",
       "255            59              0          0            0        3     2010   \n",
       "\n",
       "     sale type  saleprice  \n",
       "Id                         \n",
       "109        WD      130500  \n",
       "544        WD      220000  \n",
       "153        WD      109000  \n",
       "318        WD      174000  \n",
       "255        WD      138500  \n",
       "\n",
       "[5 rows x 74 columns]"
      ]
     },
     "execution_count": 7,
     "metadata": {},
     "output_type": "execute_result"
    }
   ],
   "source": [
    "df_train.head()"
   ]
  },
  {
   "cell_type": "code",
   "execution_count": 8,
   "metadata": {},
   "outputs": [],
   "source": [
    "# Create X and y for train and test datasets\n",
    "\n",
    "features = ['overall qual', 'gr liv area', 'garage area']\n",
    "\n",
    "X_train = df_train[features]\n",
    "y_train = df_train['saleprice']"
   ]
  },
  {
   "cell_type": "code",
   "execution_count": 9,
   "metadata": {},
   "outputs": [],
   "source": [
    "# Scale X_train and then use it to transform X_train\n",
    "ss = StandardScaler()\n",
    "ss.fit(X_train)\n",
    "X_train_sc = ss.fit_transform(X_train)"
   ]
  },
  {
   "cell_type": "code",
   "execution_count": 10,
   "metadata": {},
   "outputs": [
    {
     "data": {
      "text/plain": [
       "(2051, 3)"
      ]
     },
     "execution_count": 10,
     "metadata": {},
     "output_type": "execute_result"
    }
   ],
   "source": [
    "X_train.shape"
   ]
  },
  {
   "cell_type": "code",
   "execution_count": 13,
   "metadata": {},
   "outputs": [
    {
     "data": {
      "text/plain": [
       "(2051,)"
      ]
     },
     "execution_count": 13,
     "metadata": {},
     "output_type": "execute_result"
    }
   ],
   "source": [
    "y_train.shape"
   ]
  },
  {
   "cell_type": "code",
   "execution_count": 14,
   "metadata": {},
   "outputs": [],
   "source": [
    "# Instantiate our linear regression object: \n",
    "lr = LinearRegression()"
   ]
  },
  {
   "cell_type": "code",
   "execution_count": 15,
   "metadata": {},
   "outputs": [
    {
     "data": {
      "text/plain": [
       "array([0.76248544, 0.78530582, 0.72026629, 0.79280991, 0.72505863])"
      ]
     },
     "execution_count": 15,
     "metadata": {},
     "output_type": "execute_result"
    }
   ],
   "source": [
    "# Get cross val scores\n",
    "cross_val_score(lr, X_train_sc, y_train, cv=5)"
   ]
  },
  {
   "cell_type": "code",
   "execution_count": 16,
   "metadata": {},
   "outputs": [
    {
     "data": {
      "text/plain": [
       "0.7573468436733898"
      ]
     },
     "execution_count": 16,
     "metadata": {},
     "output_type": "execute_result"
    }
   ],
   "source": [
    "# Fit the model with training data\n",
    "lr.fit(X_train_sc, y_train)\n",
    "\n",
    "# Get the training score\n",
    "lr.score(X_train_sc, y_train)"
   ]
  },
  {
   "cell_type": "code",
   "execution_count": 17,
   "metadata": {},
   "outputs": [
    {
     "data": {
      "text/plain": [
       "array([177457.62902739, 243255.71030163, 110883.60030228, ...,\n",
       "       187913.05998768,  93455.37234528, 218666.00397533])"
      ]
     },
     "execution_count": 17,
     "metadata": {},
     "output_type": "execute_result"
    }
   ],
   "source": [
    "# Generate predictions for x_test_sc\n",
    "pred_1 = lr.predict(X_train_sc)\n",
    "pred_1"
   ]
  },
  {
   "cell_type": "code",
   "execution_count": 19,
   "metadata": {},
   "outputs": [
    {
     "data": {
      "text/plain": [
       "39033.16745832718"
      ]
     },
     "execution_count": 19,
     "metadata": {},
     "output_type": "execute_result"
    }
   ],
   "source": [
    "# Calculate RMSE \n",
    "np.sqrt(mean_squared_error(y_train, pred_1))"
   ]
  },
  {
   "cell_type": "markdown",
   "metadata": {},
   "source": [
    "**Explanation:** This model produces an RMSE score of 39,033.17 on the training data and 42,733.83 on the testing data. RMSE represents the level of error in units of the predictor, so we want it to be low. In this case, the training dataset is performing better than the test. This indicates the model doesn't generalize well to new, unseen data. How to address this? Regularization!"
   ]
  },
  {
   "cell_type": "code",
   "execution_count": 20,
   "metadata": {},
   "outputs": [],
   "source": [
    "#Is there a pattern and if so, what is it? The model looks like it predicts quite well for a \n",
    "#certain range of sale prices and the errors look homogenous. However, we can also see the error is \n",
    "#getting larger as the model tries to make larger predictions (over $250,000)."
   ]
  },
  {
   "cell_type": "markdown",
   "metadata": {},
   "source": [
    "## Model 2: Linear Regression with Feature Engineering"
   ]
  },
  {
   "cell_type": "code",
   "execution_count": 22,
   "metadata": {},
   "outputs": [],
   "source": [
    "poly_train2 = pd.read_csv('../data/train_poly.csv')\n",
    "poly_train2.set_index('Id', inplace=True)"
   ]
  },
  {
   "cell_type": "code",
   "execution_count": 23,
   "metadata": {
    "scrolled": true
   },
   "outputs": [
    {
     "data": {
      "text/html": [
       "<div>\n",
       "<style scoped>\n",
       "    .dataframe tbody tr th:only-of-type {\n",
       "        vertical-align: middle;\n",
       "    }\n",
       "\n",
       "    .dataframe tbody tr th {\n",
       "        vertical-align: top;\n",
       "    }\n",
       "\n",
       "    .dataframe thead th {\n",
       "        text-align: right;\n",
       "    }\n",
       "</style>\n",
       "<table border=\"1\" class=\"dataframe\">\n",
       "  <thead>\n",
       "    <tr style=\"text-align: right;\">\n",
       "      <th></th>\n",
       "      <th>overall qual</th>\n",
       "      <th>overall cond</th>\n",
       "      <th>gr liv area</th>\n",
       "      <th>garage area</th>\n",
       "      <th>kitchen abvgr</th>\n",
       "      <th>overall qual^2</th>\n",
       "      <th>overall qual overall cond</th>\n",
       "      <th>overall qual gr liv area</th>\n",
       "      <th>overall qual garage area</th>\n",
       "      <th>overall qual kitchen abvgr</th>\n",
       "      <th>...</th>\n",
       "      <th>overall cond gr liv area</th>\n",
       "      <th>overall cond garage area</th>\n",
       "      <th>overall cond kitchen abvgr</th>\n",
       "      <th>gr liv area^2</th>\n",
       "      <th>gr liv area garage area</th>\n",
       "      <th>gr liv area kitchen abvgr</th>\n",
       "      <th>garage area^2</th>\n",
       "      <th>garage area kitchen abvgr</th>\n",
       "      <th>kitchen abvgr^2</th>\n",
       "      <th>saleprice</th>\n",
       "    </tr>\n",
       "    <tr>\n",
       "      <th>Id</th>\n",
       "      <th></th>\n",
       "      <th></th>\n",
       "      <th></th>\n",
       "      <th></th>\n",
       "      <th></th>\n",
       "      <th></th>\n",
       "      <th></th>\n",
       "      <th></th>\n",
       "      <th></th>\n",
       "      <th></th>\n",
       "      <th></th>\n",
       "      <th></th>\n",
       "      <th></th>\n",
       "      <th></th>\n",
       "      <th></th>\n",
       "      <th></th>\n",
       "      <th></th>\n",
       "      <th></th>\n",
       "      <th></th>\n",
       "      <th></th>\n",
       "      <th></th>\n",
       "    </tr>\n",
       "  </thead>\n",
       "  <tbody>\n",
       "    <tr>\n",
       "      <th>109</th>\n",
       "      <td>6.0</td>\n",
       "      <td>8.0</td>\n",
       "      <td>1479.0</td>\n",
       "      <td>475.0</td>\n",
       "      <td>1.0</td>\n",
       "      <td>36.0</td>\n",
       "      <td>48.0</td>\n",
       "      <td>8874.0</td>\n",
       "      <td>2850.0</td>\n",
       "      <td>6.0</td>\n",
       "      <td>...</td>\n",
       "      <td>11832.0</td>\n",
       "      <td>3800.0</td>\n",
       "      <td>8.0</td>\n",
       "      <td>2187441.0</td>\n",
       "      <td>702525.0</td>\n",
       "      <td>1479.0</td>\n",
       "      <td>225625.0</td>\n",
       "      <td>475.0</td>\n",
       "      <td>1.0</td>\n",
       "      <td>130500</td>\n",
       "    </tr>\n",
       "    <tr>\n",
       "      <th>544</th>\n",
       "      <td>7.0</td>\n",
       "      <td>5.0</td>\n",
       "      <td>2122.0</td>\n",
       "      <td>559.0</td>\n",
       "      <td>1.0</td>\n",
       "      <td>49.0</td>\n",
       "      <td>35.0</td>\n",
       "      <td>14854.0</td>\n",
       "      <td>3913.0</td>\n",
       "      <td>7.0</td>\n",
       "      <td>...</td>\n",
       "      <td>10610.0</td>\n",
       "      <td>2795.0</td>\n",
       "      <td>5.0</td>\n",
       "      <td>4502884.0</td>\n",
       "      <td>1186198.0</td>\n",
       "      <td>2122.0</td>\n",
       "      <td>312481.0</td>\n",
       "      <td>559.0</td>\n",
       "      <td>1.0</td>\n",
       "      <td>220000</td>\n",
       "    </tr>\n",
       "    <tr>\n",
       "      <th>153</th>\n",
       "      <td>5.0</td>\n",
       "      <td>7.0</td>\n",
       "      <td>1057.0</td>\n",
       "      <td>246.0</td>\n",
       "      <td>1.0</td>\n",
       "      <td>25.0</td>\n",
       "      <td>35.0</td>\n",
       "      <td>5285.0</td>\n",
       "      <td>1230.0</td>\n",
       "      <td>5.0</td>\n",
       "      <td>...</td>\n",
       "      <td>7399.0</td>\n",
       "      <td>1722.0</td>\n",
       "      <td>7.0</td>\n",
       "      <td>1117249.0</td>\n",
       "      <td>260022.0</td>\n",
       "      <td>1057.0</td>\n",
       "      <td>60516.0</td>\n",
       "      <td>246.0</td>\n",
       "      <td>1.0</td>\n",
       "      <td>109000</td>\n",
       "    </tr>\n",
       "    <tr>\n",
       "      <th>318</th>\n",
       "      <td>5.0</td>\n",
       "      <td>5.0</td>\n",
       "      <td>1444.0</td>\n",
       "      <td>400.0</td>\n",
       "      <td>1.0</td>\n",
       "      <td>25.0</td>\n",
       "      <td>25.0</td>\n",
       "      <td>7220.0</td>\n",
       "      <td>2000.0</td>\n",
       "      <td>5.0</td>\n",
       "      <td>...</td>\n",
       "      <td>7220.0</td>\n",
       "      <td>2000.0</td>\n",
       "      <td>5.0</td>\n",
       "      <td>2085136.0</td>\n",
       "      <td>577600.0</td>\n",
       "      <td>1444.0</td>\n",
       "      <td>160000.0</td>\n",
       "      <td>400.0</td>\n",
       "      <td>1.0</td>\n",
       "      <td>174000</td>\n",
       "    </tr>\n",
       "    <tr>\n",
       "      <th>255</th>\n",
       "      <td>6.0</td>\n",
       "      <td>8.0</td>\n",
       "      <td>1445.0</td>\n",
       "      <td>484.0</td>\n",
       "      <td>1.0</td>\n",
       "      <td>36.0</td>\n",
       "      <td>48.0</td>\n",
       "      <td>8670.0</td>\n",
       "      <td>2904.0</td>\n",
       "      <td>6.0</td>\n",
       "      <td>...</td>\n",
       "      <td>11560.0</td>\n",
       "      <td>3872.0</td>\n",
       "      <td>8.0</td>\n",
       "      <td>2088025.0</td>\n",
       "      <td>699380.0</td>\n",
       "      <td>1445.0</td>\n",
       "      <td>234256.0</td>\n",
       "      <td>484.0</td>\n",
       "      <td>1.0</td>\n",
       "      <td>138500</td>\n",
       "    </tr>\n",
       "  </tbody>\n",
       "</table>\n",
       "<p>5 rows × 21 columns</p>\n",
       "</div>"
      ],
      "text/plain": [
       "     overall qual  overall cond  gr liv area  garage area  kitchen abvgr  \\\n",
       "Id                                                                         \n",
       "109           6.0           8.0       1479.0        475.0            1.0   \n",
       "544           7.0           5.0       2122.0        559.0            1.0   \n",
       "153           5.0           7.0       1057.0        246.0            1.0   \n",
       "318           5.0           5.0       1444.0        400.0            1.0   \n",
       "255           6.0           8.0       1445.0        484.0            1.0   \n",
       "\n",
       "     overall qual^2  overall qual overall cond  overall qual gr liv area  \\\n",
       "Id                                                                         \n",
       "109            36.0                       48.0                    8874.0   \n",
       "544            49.0                       35.0                   14854.0   \n",
       "153            25.0                       35.0                    5285.0   \n",
       "318            25.0                       25.0                    7220.0   \n",
       "255            36.0                       48.0                    8670.0   \n",
       "\n",
       "     overall qual garage area  overall qual kitchen abvgr  ...  \\\n",
       "Id                                                         ...   \n",
       "109                    2850.0                         6.0  ...   \n",
       "544                    3913.0                         7.0  ...   \n",
       "153                    1230.0                         5.0  ...   \n",
       "318                    2000.0                         5.0  ...   \n",
       "255                    2904.0                         6.0  ...   \n",
       "\n",
       "     overall cond gr liv area  overall cond garage area  \\\n",
       "Id                                                        \n",
       "109                   11832.0                    3800.0   \n",
       "544                   10610.0                    2795.0   \n",
       "153                    7399.0                    1722.0   \n",
       "318                    7220.0                    2000.0   \n",
       "255                   11560.0                    3872.0   \n",
       "\n",
       "     overall cond kitchen abvgr  gr liv area^2  gr liv area garage area  \\\n",
       "Id                                                                        \n",
       "109                         8.0      2187441.0                 702525.0   \n",
       "544                         5.0      4502884.0                1186198.0   \n",
       "153                         7.0      1117249.0                 260022.0   \n",
       "318                         5.0      2085136.0                 577600.0   \n",
       "255                         8.0      2088025.0                 699380.0   \n",
       "\n",
       "     gr liv area kitchen abvgr  garage area^2  garage area kitchen abvgr  \\\n",
       "Id                                                                         \n",
       "109                     1479.0       225625.0                      475.0   \n",
       "544                     2122.0       312481.0                      559.0   \n",
       "153                     1057.0        60516.0                      246.0   \n",
       "318                     1444.0       160000.0                      400.0   \n",
       "255                     1445.0       234256.0                      484.0   \n",
       "\n",
       "     kitchen abvgr^2  saleprice  \n",
       "Id                               \n",
       "109              1.0     130500  \n",
       "544              1.0     220000  \n",
       "153              1.0     109000  \n",
       "318              1.0     174000  \n",
       "255              1.0     138500  \n",
       "\n",
       "[5 rows x 21 columns]"
      ]
     },
     "execution_count": 23,
     "metadata": {},
     "output_type": "execute_result"
    }
   ],
   "source": [
    "poly_train2.head()"
   ]
  },
  {
   "cell_type": "code",
   "execution_count": 24,
   "metadata": {},
   "outputs": [],
   "source": [
    "# Create X and y for train and test datasets\n",
    "\n",
    "features2 = ['overall qual gr liv area',\n",
    "            'overall qual garage area',\n",
    "            'gr liv area garage area',\n",
    "            'gr liv area',\n",
    "            'overall cond kitchen abvgr']\n",
    "\n",
    "X_train2 = poly_train2[features2]\n",
    "y_train2 = poly_train2['saleprice']"
   ]
  },
  {
   "cell_type": "code",
   "execution_count": 25,
   "metadata": {},
   "outputs": [],
   "source": [
    "# Scale X_train2\n",
    "\n",
    "ss.fit(X_train2)\n",
    "X_train2_sc = ss.fit_transform(X_train2)"
   ]
  },
  {
   "cell_type": "code",
   "execution_count": 28,
   "metadata": {},
   "outputs": [
    {
     "data": {
      "text/plain": [
       "(2051, 5)"
      ]
     },
     "execution_count": 28,
     "metadata": {},
     "output_type": "execute_result"
    }
   ],
   "source": [
    "X_train2_sc.shape"
   ]
  },
  {
   "cell_type": "code",
   "execution_count": 29,
   "metadata": {},
   "outputs": [
    {
     "data": {
      "text/plain": [
       "(2051,)"
      ]
     },
     "execution_count": 29,
     "metadata": {},
     "output_type": "execute_result"
    }
   ],
   "source": [
    "y_train2.shape"
   ]
  },
  {
   "cell_type": "code",
   "execution_count": 30,
   "metadata": {},
   "outputs": [
    {
     "data": {
      "text/plain": [
       "array([0.79378316, 0.82614526, 0.73844348, 0.82316551, 0.75520997])"
      ]
     },
     "execution_count": 30,
     "metadata": {},
     "output_type": "execute_result"
    }
   ],
   "source": [
    "# Get cross val scores\n",
    "cross_val_score(lr, X_train2_sc, y_train2, cv=5)"
   ]
  },
  {
   "cell_type": "code",
   "execution_count": 31,
   "metadata": {},
   "outputs": [
    {
     "data": {
      "text/plain": [
       "0.7942875220037198"
      ]
     },
     "execution_count": 31,
     "metadata": {},
     "output_type": "execute_result"
    }
   ],
   "source": [
    "# Fit the model with training data\n",
    "lr.fit(X_train2_sc, y_train2)\n",
    "\n",
    "# Get the training score\n",
    "lr.score(X_train2_sc, y_train2)"
   ]
  },
  {
   "cell_type": "code",
   "execution_count": 32,
   "metadata": {},
   "outputs": [
    {
     "data": {
      "text/plain": [
       "array([171001.11701607, 240759.6977169 , 110557.24484791, ...,\n",
       "       185860.53263189, 103830.43068663, 215082.42027841])"
      ]
     },
     "execution_count": 32,
     "metadata": {},
     "output_type": "execute_result"
    }
   ],
   "source": [
    "# Generate predictions for x_test_sc\n",
    "pred_2 = lr.predict(X_train2_sc)\n",
    "pred_2"
   ]
  },
  {
   "cell_type": "code",
   "execution_count": 33,
   "metadata": {},
   "outputs": [
    {
     "data": {
      "text/plain": [
       "35939.42630250821"
      ]
     },
     "execution_count": 33,
     "metadata": {},
     "output_type": "execute_result"
    }
   ],
   "source": [
    "# Calculate RMSE \n",
    "np.sqrt(mean_squared_error(y_train2, pred_2))"
   ]
  },
  {
   "cell_type": "markdown",
   "metadata": {},
   "source": [
    "**Evaluation**:"
   ]
  },
  {
   "cell_type": "markdown",
   "metadata": {},
   "source": [
    "## Model 3: add Ridge Regression"
   ]
  },
  {
   "cell_type": "code",
   "execution_count": 85,
   "metadata": {},
   "outputs": [],
   "source": [
    "# Will be using the fit AND transformed Standard Scaler data from model #2\n",
    "# rename for clarity\n",
    "overfit_train2_sc = X_train2_sc"
   ]
  },
  {
   "cell_type": "code",
   "execution_count": 86,
   "metadata": {},
   "outputs": [],
   "source": [
    "# Instantiate.\n",
    "ridge_model=Ridge(alpha=10)"
   ]
  },
  {
   "cell_type": "code",
   "execution_count": 87,
   "metadata": {},
   "outputs": [
    {
     "name": "stdout",
     "output_type": "stream",
     "text": [
      "0.794029327671238\n"
     ]
    }
   ],
   "source": [
    "# Fit.\n",
    "ridge_model.fit(overfit_train2_sc, y_train2)\n",
    "\n",
    "# Evaluate model using R2.\n",
    "print(ridge_model.score(overfit_train2_sc, y_train2))"
   ]
  },
  {
   "cell_type": "code",
   "execution_count": 89,
   "metadata": {},
   "outputs": [],
   "source": [
    "# Set up a list of ridge alphas to check.\n",
    "# Generates 100 values equally between 0 and 5,\n",
    "# then converts them to alphas between 10^0 and 10^5.\n",
    "r_alphas = np.logspace(0, 5, 100)\n",
    "\n",
    "# Cross-validate over our list of ridge alphas.\n",
    "ridge_model = RidgeCV(alphas=r_alphas, scoring='r2', cv=5)\n",
    "\n",
    "# Fit model using best ridge alpha!\n",
    "ridge_model = ridge_model.fit(overfit_train2_sc, y_train2)"
   ]
  },
  {
   "cell_type": "code",
   "execution_count": 90,
   "metadata": {},
   "outputs": [
    {
     "data": {
      "text/plain": [
       "4.0370172585965545"
      ]
     },
     "execution_count": 90,
     "metadata": {},
     "output_type": "execute_result"
    }
   ],
   "source": [
    "# Here is the optimal value of alpha\n",
    "ridge_model.alpha_"
   ]
  },
  {
   "cell_type": "code",
   "execution_count": 91,
   "metadata": {},
   "outputs": [
    {
     "name": "stdout",
     "output_type": "stream",
     "text": [
      "0.7942401989673435\n"
     ]
    }
   ],
   "source": [
    "# Evaluate model using R2.\n",
    "print(ridge_model.score(overfit_train2_sc, y_train2))"
   ]
  },
  {
   "cell_type": "code",
   "execution_count": 96,
   "metadata": {},
   "outputs": [
    {
     "data": {
      "text/plain": [
       "array([ 42021.21092814,  57024.77300953, -37748.8929573 ,  13675.43127624,\n",
       "        -1112.59267767])"
      ]
     },
     "execution_count": 96,
     "metadata": {},
     "output_type": "execute_result"
    }
   ],
   "source": [
    "ridge_model.coef_"
   ]
  },
  {
   "cell_type": "markdown",
   "metadata": {},
   "source": [
    "**Evaluation**:"
   ]
  },
  {
   "cell_type": "markdown",
   "metadata": {},
   "source": [
    "## Model 3: add Lasso"
   ]
  },
  {
   "cell_type": "code",
   "execution_count": 93,
   "metadata": {},
   "outputs": [],
   "source": [
    "# Set up a list of Lasso alphas to check.\n",
    "l_alphas = np.logspace(-3, 0, 100)\n",
    "\n",
    "# Cross-validate over our list of Lasso alphas.\n",
    "lasso_model = LassoCV(alphas=l_alphas, cv=5, max_iter=5000)\n",
    "\n",
    "# Fit model using best Lasso alpha\n",
    "lasso_model = lasso_model.fit(overfit_train2_sc, y_train2)"
   ]
  },
  {
   "cell_type": "code",
   "execution_count": 94,
   "metadata": {},
   "outputs": [
    {
     "data": {
      "text/plain": [
       "0.001"
      ]
     },
     "execution_count": 94,
     "metadata": {},
     "output_type": "execute_result"
    }
   ],
   "source": [
    "# Here is the optimal value of alpha\n",
    "lasso_model.alpha_"
   ]
  },
  {
   "cell_type": "code",
   "execution_count": 95,
   "metadata": {},
   "outputs": [
    {
     "name": "stdout",
     "output_type": "stream",
     "text": [
      "0.7942875220037101\n"
     ]
    }
   ],
   "source": [
    "print(lasso_model.score(overfit_train2_sc, y_train2))"
   ]
  },
  {
   "cell_type": "code",
   "execution_count": 97,
   "metadata": {},
   "outputs": [
    {
     "data": {
      "text/plain": [
       "array([ 41630.18476838,  58475.36731829, -39614.16802851,  14720.32982288,\n",
       "        -1083.05244728])"
      ]
     },
     "execution_count": 97,
     "metadata": {},
     "output_type": "execute_result"
    }
   ],
   "source": [
    "lasso_model.coef_"
   ]
  },
  {
   "cell_type": "markdown",
   "metadata": {},
   "source": [
    "# Kaggle Submission #1"
   ]
  },
  {
   "cell_type": "code",
   "execution_count": 92,
   "metadata": {},
   "outputs": [],
   "source": [
    "features = ['overall qual', 'gr liv area', 'garage area']"
   ]
  },
  {
   "cell_type": "code",
   "execution_count": 73,
   "metadata": {},
   "outputs": [
    {
     "data": {
      "text/html": [
       "<div>\n",
       "<style scoped>\n",
       "    .dataframe tbody tr th:only-of-type {\n",
       "        vertical-align: middle;\n",
       "    }\n",
       "\n",
       "    .dataframe tbody tr th {\n",
       "        vertical-align: top;\n",
       "    }\n",
       "\n",
       "    .dataframe thead th {\n",
       "        text-align: right;\n",
       "    }\n",
       "</style>\n",
       "<table border=\"1\" class=\"dataframe\">\n",
       "  <thead>\n",
       "    <tr style=\"text-align: right;\">\n",
       "      <th></th>\n",
       "      <th>overall qual</th>\n",
       "      <th>gr liv area</th>\n",
       "      <th>garage area</th>\n",
       "    </tr>\n",
       "    <tr>\n",
       "      <th>Id</th>\n",
       "      <th></th>\n",
       "      <th></th>\n",
       "      <th></th>\n",
       "    </tr>\n",
       "  </thead>\n",
       "  <tbody>\n",
       "    <tr>\n",
       "      <th>2658</th>\n",
       "      <td>6</td>\n",
       "      <td>1928</td>\n",
       "      <td>440</td>\n",
       "    </tr>\n",
       "    <tr>\n",
       "      <th>2718</th>\n",
       "      <td>5</td>\n",
       "      <td>1967</td>\n",
       "      <td>580</td>\n",
       "    </tr>\n",
       "    <tr>\n",
       "      <th>2414</th>\n",
       "      <td>7</td>\n",
       "      <td>1496</td>\n",
       "      <td>426</td>\n",
       "    </tr>\n",
       "    <tr>\n",
       "      <th>1989</th>\n",
       "      <td>5</td>\n",
       "      <td>968</td>\n",
       "      <td>480</td>\n",
       "    </tr>\n",
       "    <tr>\n",
       "      <th>625</th>\n",
       "      <td>6</td>\n",
       "      <td>1394</td>\n",
       "      <td>514</td>\n",
       "    </tr>\n",
       "  </tbody>\n",
       "</table>\n",
       "</div>"
      ],
      "text/plain": [
       "      overall qual  gr liv area  garage area\n",
       "Id                                          \n",
       "2658             6         1928          440\n",
       "2718             5         1967          580\n",
       "2414             7         1496          426\n",
       "1989             5          968          480\n",
       "625              6         1394          514"
      ]
     },
     "execution_count": 73,
     "metadata": {},
     "output_type": "execute_result"
    }
   ],
   "source": [
    "# Create a dataframe of our features from our testing data\n",
    "X_kaggle = df_test[features]"
   ]
  },
  {
   "cell_type": "code",
   "execution_count": 94,
   "metadata": {},
   "outputs": [],
   "source": [
    "# Apply standard scalar to kaggle test data\n",
    "X_test_Kaggle_sc = ss.transform(X_kaggle)"
   ]
  },
  {
   "cell_type": "code",
   "execution_count": 99,
   "metadata": {},
   "outputs": [
    {
     "name": "stderr",
     "output_type": "stream",
     "text": [
      "/Users/jessicaertel/anaconda3/lib/python3.7/site-packages/ipykernel_launcher.py:2: SettingWithCopyWarning: \n",
      "A value is trying to be set on a copy of a slice from a DataFrame.\n",
      "Try using .loc[row_indexer,col_indexer] = value instead\n",
      "\n",
      "See the caveats in the documentation: http://pandas.pydata.org/pandas-docs/stable/user_guide/indexing.html#returning-a-view-versus-a-copy\n",
      "  \n"
     ]
    },
    {
     "data": {
      "text/html": [
       "<div>\n",
       "<style scoped>\n",
       "    .dataframe tbody tr th:only-of-type {\n",
       "        vertical-align: middle;\n",
       "    }\n",
       "\n",
       "    .dataframe tbody tr th {\n",
       "        vertical-align: top;\n",
       "    }\n",
       "\n",
       "    .dataframe thead th {\n",
       "        text-align: right;\n",
       "    }\n",
       "</style>\n",
       "<table border=\"1\" class=\"dataframe\">\n",
       "  <thead>\n",
       "    <tr style=\"text-align: right;\">\n",
       "      <th></th>\n",
       "      <th>overall qual</th>\n",
       "      <th>gr liv area</th>\n",
       "      <th>garage area</th>\n",
       "      <th>saleprice</th>\n",
       "    </tr>\n",
       "    <tr>\n",
       "      <th>Id</th>\n",
       "      <th></th>\n",
       "      <th></th>\n",
       "      <th></th>\n",
       "      <th></th>\n",
       "    </tr>\n",
       "  </thead>\n",
       "  <tbody>\n",
       "    <tr>\n",
       "      <th>2658</th>\n",
       "      <td>6</td>\n",
       "      <td>1928</td>\n",
       "      <td>440</td>\n",
       "      <td>196373.414170</td>\n",
       "    </tr>\n",
       "    <tr>\n",
       "      <th>2718</th>\n",
       "      <td>5</td>\n",
       "      <td>1967</td>\n",
       "      <td>580</td>\n",
       "      <td>181186.324302</td>\n",
       "    </tr>\n",
       "    <tr>\n",
       "      <th>2414</th>\n",
       "      <td>7</td>\n",
       "      <td>1496</td>\n",
       "      <td>426</td>\n",
       "      <td>202532.061135</td>\n",
       "    </tr>\n",
       "    <tr>\n",
       "      <th>1989</th>\n",
       "      <td>5</td>\n",
       "      <td>968</td>\n",
       "      <td>480</td>\n",
       "      <td>125058.453434</td>\n",
       "    </tr>\n",
       "    <tr>\n",
       "      <th>625</th>\n",
       "      <td>6</td>\n",
       "      <td>1394</td>\n",
       "      <td>514</td>\n",
       "      <td>176432.306950</td>\n",
       "    </tr>\n",
       "  </tbody>\n",
       "</table>\n",
       "</div>"
      ],
      "text/plain": [
       "      overall qual  gr liv area  garage area      saleprice\n",
       "Id                                                         \n",
       "2658             6         1928          440  196373.414170\n",
       "2718             5         1967          580  181186.324302\n",
       "2414             7         1496          426  202532.061135\n",
       "1989             5          968          480  125058.453434\n",
       "625              6         1394          514  176432.306950"
      ]
     },
     "execution_count": 99,
     "metadata": {},
     "output_type": "execute_result"
    }
   ],
   "source": [
    "# Make predictions and save those predictions to a new column\n",
    "X_kaggle['saleprice'] = lr.predict(X_test_Kaggle_sc)\n",
    "X_kaggle.head()"
   ]
  },
  {
   "cell_type": "code",
   "execution_count": 100,
   "metadata": {},
   "outputs": [
    {
     "data": {
      "text/html": [
       "<div>\n",
       "<style scoped>\n",
       "    .dataframe tbody tr th:only-of-type {\n",
       "        vertical-align: middle;\n",
       "    }\n",
       "\n",
       "    .dataframe tbody tr th {\n",
       "        vertical-align: top;\n",
       "    }\n",
       "\n",
       "    .dataframe thead th {\n",
       "        text-align: right;\n",
       "    }\n",
       "</style>\n",
       "<table border=\"1\" class=\"dataframe\">\n",
       "  <thead>\n",
       "    <tr style=\"text-align: right;\">\n",
       "      <th></th>\n",
       "      <th>saleprice</th>\n",
       "    </tr>\n",
       "    <tr>\n",
       "      <th>Id</th>\n",
       "      <th></th>\n",
       "    </tr>\n",
       "  </thead>\n",
       "  <tbody>\n",
       "    <tr>\n",
       "      <th>2658</th>\n",
       "      <td>196373.414170</td>\n",
       "    </tr>\n",
       "    <tr>\n",
       "      <th>2718</th>\n",
       "      <td>181186.324302</td>\n",
       "    </tr>\n",
       "    <tr>\n",
       "      <th>2414</th>\n",
       "      <td>202532.061135</td>\n",
       "    </tr>\n",
       "    <tr>\n",
       "      <th>1989</th>\n",
       "      <td>125058.453434</td>\n",
       "    </tr>\n",
       "    <tr>\n",
       "      <th>625</th>\n",
       "      <td>176432.306950</td>\n",
       "    </tr>\n",
       "  </tbody>\n",
       "</table>\n",
       "</div>"
      ],
      "text/plain": [
       "          saleprice\n",
       "Id                 \n",
       "2658  196373.414170\n",
       "2718  181186.324302\n",
       "2414  202532.061135\n",
       "1989  125058.453434\n",
       "625   176432.306950"
      ]
     },
     "execution_count": 100,
     "metadata": {},
     "output_type": "execute_result"
    }
   ],
   "source": [
    "# Create a new dataframe of JUST our predictions\n",
    "output = X_kaggle[['saleprice']]\n",
    "output.head()"
   ]
  },
  {
   "cell_type": "code",
   "execution_count": 101,
   "metadata": {},
   "outputs": [],
   "source": [
    "# Saving our predictions to our datasets folder\n",
    "output.to_csv(\"../data/first_submission.csv\")"
   ]
  },
  {
   "cell_type": "markdown",
   "metadata": {},
   "source": [
    "# Kaggle Submission #2"
   ]
  },
  {
   "cell_type": "code",
   "execution_count": 65,
   "metadata": {},
   "outputs": [],
   "source": [
    "features2 = ['overall qual', 'overall cond', 'gr liv area', 'garage area', 'kitchen abvgr']"
   ]
  },
  {
   "cell_type": "code",
   "execution_count": 66,
   "metadata": {},
   "outputs": [],
   "source": [
    "# Create a dataframe of our features from our testing data\n",
    "X_kaggle2 = df_test[features2]"
   ]
  },
  {
   "cell_type": "code",
   "execution_count": 67,
   "metadata": {
    "scrolled": true
   },
   "outputs": [
    {
     "data": {
      "text/html": [
       "<div>\n",
       "<style scoped>\n",
       "    .dataframe tbody tr th:only-of-type {\n",
       "        vertical-align: middle;\n",
       "    }\n",
       "\n",
       "    .dataframe tbody tr th {\n",
       "        vertical-align: top;\n",
       "    }\n",
       "\n",
       "    .dataframe thead th {\n",
       "        text-align: right;\n",
       "    }\n",
       "</style>\n",
       "<table border=\"1\" class=\"dataframe\">\n",
       "  <thead>\n",
       "    <tr style=\"text-align: right;\">\n",
       "      <th></th>\n",
       "      <th>overall qual</th>\n",
       "      <th>overall cond</th>\n",
       "      <th>gr liv area</th>\n",
       "      <th>garage area</th>\n",
       "      <th>kitchen abvgr</th>\n",
       "    </tr>\n",
       "    <tr>\n",
       "      <th>Id</th>\n",
       "      <th></th>\n",
       "      <th></th>\n",
       "      <th></th>\n",
       "      <th></th>\n",
       "      <th></th>\n",
       "    </tr>\n",
       "  </thead>\n",
       "  <tbody>\n",
       "    <tr>\n",
       "      <th>2658</th>\n",
       "      <td>6</td>\n",
       "      <td>8</td>\n",
       "      <td>1928</td>\n",
       "      <td>440</td>\n",
       "      <td>2</td>\n",
       "    </tr>\n",
       "    <tr>\n",
       "      <th>2718</th>\n",
       "      <td>5</td>\n",
       "      <td>4</td>\n",
       "      <td>1967</td>\n",
       "      <td>580</td>\n",
       "      <td>2</td>\n",
       "    </tr>\n",
       "    <tr>\n",
       "      <th>2414</th>\n",
       "      <td>7</td>\n",
       "      <td>5</td>\n",
       "      <td>1496</td>\n",
       "      <td>426</td>\n",
       "      <td>1</td>\n",
       "    </tr>\n",
       "    <tr>\n",
       "      <th>1989</th>\n",
       "      <td>5</td>\n",
       "      <td>6</td>\n",
       "      <td>968</td>\n",
       "      <td>480</td>\n",
       "      <td>1</td>\n",
       "    </tr>\n",
       "    <tr>\n",
       "      <th>625</th>\n",
       "      <td>6</td>\n",
       "      <td>5</td>\n",
       "      <td>1394</td>\n",
       "      <td>514</td>\n",
       "      <td>1</td>\n",
       "    </tr>\n",
       "  </tbody>\n",
       "</table>\n",
       "</div>"
      ],
      "text/plain": [
       "      overall qual  overall cond  gr liv area  garage area  kitchen abvgr\n",
       "Id                                                                       \n",
       "2658             6             8         1928          440              2\n",
       "2718             5             4         1967          580              2\n",
       "2414             7             5         1496          426              1\n",
       "1989             5             6          968          480              1\n",
       "625              6             5         1394          514              1"
      ]
     },
     "execution_count": 67,
     "metadata": {},
     "output_type": "execute_result"
    }
   ],
   "source": [
    "X_kaggle2.head()"
   ]
  },
  {
   "cell_type": "code",
   "execution_count": 68,
   "metadata": {},
   "outputs": [],
   "source": [
    "# Instantiate PolynomialFeatures object to create all two-way terms.\n",
    "polynomial_features = PolynomialFeatures(degree=2, interaction_only=False, include_bias=False)"
   ]
  },
  {
   "cell_type": "code",
   "execution_count": 69,
   "metadata": {},
   "outputs": [],
   "source": [
    "# Fit and transform our X data.\n",
    "poly_kaggle2 = polynomial_features.fit_transform(X_kaggle2)"
   ]
  },
  {
   "cell_type": "code",
   "execution_count": 70,
   "metadata": {},
   "outputs": [
    {
     "data": {
      "text/plain": [
       "(878, 20)"
      ]
     },
     "execution_count": 70,
     "metadata": {},
     "output_type": "execute_result"
    }
   ],
   "source": [
    "poly_kaggle2.shape"
   ]
  },
  {
   "cell_type": "code",
   "execution_count": 71,
   "metadata": {
    "scrolled": true
   },
   "outputs": [
    {
     "data": {
      "text/html": [
       "<div>\n",
       "<style scoped>\n",
       "    .dataframe tbody tr th:only-of-type {\n",
       "        vertical-align: middle;\n",
       "    }\n",
       "\n",
       "    .dataframe tbody tr th {\n",
       "        vertical-align: top;\n",
       "    }\n",
       "\n",
       "    .dataframe thead th {\n",
       "        text-align: right;\n",
       "    }\n",
       "</style>\n",
       "<table border=\"1\" class=\"dataframe\">\n",
       "  <thead>\n",
       "    <tr style=\"text-align: right;\">\n",
       "      <th></th>\n",
       "      <th>overall qual</th>\n",
       "      <th>overall cond</th>\n",
       "      <th>gr liv area</th>\n",
       "      <th>garage area</th>\n",
       "      <th>kitchen abvgr</th>\n",
       "      <th>overall qual^2</th>\n",
       "      <th>overall qual overall cond</th>\n",
       "      <th>overall qual gr liv area</th>\n",
       "      <th>overall qual garage area</th>\n",
       "      <th>overall qual kitchen abvgr</th>\n",
       "      <th>overall cond^2</th>\n",
       "      <th>overall cond gr liv area</th>\n",
       "      <th>overall cond garage area</th>\n",
       "      <th>overall cond kitchen abvgr</th>\n",
       "      <th>gr liv area^2</th>\n",
       "      <th>gr liv area garage area</th>\n",
       "      <th>gr liv area kitchen abvgr</th>\n",
       "      <th>garage area^2</th>\n",
       "      <th>garage area kitchen abvgr</th>\n",
       "      <th>kitchen abvgr^2</th>\n",
       "    </tr>\n",
       "    <tr>\n",
       "      <th>Id</th>\n",
       "      <th></th>\n",
       "      <th></th>\n",
       "      <th></th>\n",
       "      <th></th>\n",
       "      <th></th>\n",
       "      <th></th>\n",
       "      <th></th>\n",
       "      <th></th>\n",
       "      <th></th>\n",
       "      <th></th>\n",
       "      <th></th>\n",
       "      <th></th>\n",
       "      <th></th>\n",
       "      <th></th>\n",
       "      <th></th>\n",
       "      <th></th>\n",
       "      <th></th>\n",
       "      <th></th>\n",
       "      <th></th>\n",
       "      <th></th>\n",
       "    </tr>\n",
       "  </thead>\n",
       "  <tbody>\n",
       "    <tr>\n",
       "      <th>2658</th>\n",
       "      <td>6.0</td>\n",
       "      <td>8.0</td>\n",
       "      <td>1928.0</td>\n",
       "      <td>440.0</td>\n",
       "      <td>2.0</td>\n",
       "      <td>36.0</td>\n",
       "      <td>48.0</td>\n",
       "      <td>11568.0</td>\n",
       "      <td>2640.0</td>\n",
       "      <td>12.0</td>\n",
       "      <td>64.0</td>\n",
       "      <td>15424.0</td>\n",
       "      <td>3520.0</td>\n",
       "      <td>16.0</td>\n",
       "      <td>3717184.0</td>\n",
       "      <td>848320.0</td>\n",
       "      <td>3856.0</td>\n",
       "      <td>193600.0</td>\n",
       "      <td>880.0</td>\n",
       "      <td>4.0</td>\n",
       "    </tr>\n",
       "    <tr>\n",
       "      <th>2718</th>\n",
       "      <td>5.0</td>\n",
       "      <td>4.0</td>\n",
       "      <td>1967.0</td>\n",
       "      <td>580.0</td>\n",
       "      <td>2.0</td>\n",
       "      <td>25.0</td>\n",
       "      <td>20.0</td>\n",
       "      <td>9835.0</td>\n",
       "      <td>2900.0</td>\n",
       "      <td>10.0</td>\n",
       "      <td>16.0</td>\n",
       "      <td>7868.0</td>\n",
       "      <td>2320.0</td>\n",
       "      <td>8.0</td>\n",
       "      <td>3869089.0</td>\n",
       "      <td>1140860.0</td>\n",
       "      <td>3934.0</td>\n",
       "      <td>336400.0</td>\n",
       "      <td>1160.0</td>\n",
       "      <td>4.0</td>\n",
       "    </tr>\n",
       "    <tr>\n",
       "      <th>2414</th>\n",
       "      <td>7.0</td>\n",
       "      <td>5.0</td>\n",
       "      <td>1496.0</td>\n",
       "      <td>426.0</td>\n",
       "      <td>1.0</td>\n",
       "      <td>49.0</td>\n",
       "      <td>35.0</td>\n",
       "      <td>10472.0</td>\n",
       "      <td>2982.0</td>\n",
       "      <td>7.0</td>\n",
       "      <td>25.0</td>\n",
       "      <td>7480.0</td>\n",
       "      <td>2130.0</td>\n",
       "      <td>5.0</td>\n",
       "      <td>2238016.0</td>\n",
       "      <td>637296.0</td>\n",
       "      <td>1496.0</td>\n",
       "      <td>181476.0</td>\n",
       "      <td>426.0</td>\n",
       "      <td>1.0</td>\n",
       "    </tr>\n",
       "    <tr>\n",
       "      <th>1989</th>\n",
       "      <td>5.0</td>\n",
       "      <td>6.0</td>\n",
       "      <td>968.0</td>\n",
       "      <td>480.0</td>\n",
       "      <td>1.0</td>\n",
       "      <td>25.0</td>\n",
       "      <td>30.0</td>\n",
       "      <td>4840.0</td>\n",
       "      <td>2400.0</td>\n",
       "      <td>5.0</td>\n",
       "      <td>36.0</td>\n",
       "      <td>5808.0</td>\n",
       "      <td>2880.0</td>\n",
       "      <td>6.0</td>\n",
       "      <td>937024.0</td>\n",
       "      <td>464640.0</td>\n",
       "      <td>968.0</td>\n",
       "      <td>230400.0</td>\n",
       "      <td>480.0</td>\n",
       "      <td>1.0</td>\n",
       "    </tr>\n",
       "    <tr>\n",
       "      <th>625</th>\n",
       "      <td>6.0</td>\n",
       "      <td>5.0</td>\n",
       "      <td>1394.0</td>\n",
       "      <td>514.0</td>\n",
       "      <td>1.0</td>\n",
       "      <td>36.0</td>\n",
       "      <td>30.0</td>\n",
       "      <td>8364.0</td>\n",
       "      <td>3084.0</td>\n",
       "      <td>6.0</td>\n",
       "      <td>25.0</td>\n",
       "      <td>6970.0</td>\n",
       "      <td>2570.0</td>\n",
       "      <td>5.0</td>\n",
       "      <td>1943236.0</td>\n",
       "      <td>716516.0</td>\n",
       "      <td>1394.0</td>\n",
       "      <td>264196.0</td>\n",
       "      <td>514.0</td>\n",
       "      <td>1.0</td>\n",
       "    </tr>\n",
       "  </tbody>\n",
       "</table>\n",
       "</div>"
      ],
      "text/plain": [
       "      overall qual  overall cond  gr liv area  garage area  kitchen abvgr  \\\n",
       "Id                                                                          \n",
       "2658           6.0           8.0       1928.0        440.0            2.0   \n",
       "2718           5.0           4.0       1967.0        580.0            2.0   \n",
       "2414           7.0           5.0       1496.0        426.0            1.0   \n",
       "1989           5.0           6.0        968.0        480.0            1.0   \n",
       "625            6.0           5.0       1394.0        514.0            1.0   \n",
       "\n",
       "      overall qual^2  overall qual overall cond  overall qual gr liv area  \\\n",
       "Id                                                                          \n",
       "2658            36.0                       48.0                   11568.0   \n",
       "2718            25.0                       20.0                    9835.0   \n",
       "2414            49.0                       35.0                   10472.0   \n",
       "1989            25.0                       30.0                    4840.0   \n",
       "625             36.0                       30.0                    8364.0   \n",
       "\n",
       "      overall qual garage area  overall qual kitchen abvgr  overall cond^2  \\\n",
       "Id                                                                           \n",
       "2658                    2640.0                        12.0            64.0   \n",
       "2718                    2900.0                        10.0            16.0   \n",
       "2414                    2982.0                         7.0            25.0   \n",
       "1989                    2400.0                         5.0            36.0   \n",
       "625                     3084.0                         6.0            25.0   \n",
       "\n",
       "      overall cond gr liv area  overall cond garage area  \\\n",
       "Id                                                         \n",
       "2658                   15424.0                    3520.0   \n",
       "2718                    7868.0                    2320.0   \n",
       "2414                    7480.0                    2130.0   \n",
       "1989                    5808.0                    2880.0   \n",
       "625                     6970.0                    2570.0   \n",
       "\n",
       "      overall cond kitchen abvgr  gr liv area^2  gr liv area garage area  \\\n",
       "Id                                                                         \n",
       "2658                        16.0      3717184.0                 848320.0   \n",
       "2718                         8.0      3869089.0                1140860.0   \n",
       "2414                         5.0      2238016.0                 637296.0   \n",
       "1989                         6.0       937024.0                 464640.0   \n",
       "625                          5.0      1943236.0                 716516.0   \n",
       "\n",
       "      gr liv area kitchen abvgr  garage area^2  garage area kitchen abvgr  \\\n",
       "Id                                                                          \n",
       "2658                     3856.0       193600.0                      880.0   \n",
       "2718                     3934.0       336400.0                     1160.0   \n",
       "2414                     1496.0       181476.0                      426.0   \n",
       "1989                      968.0       230400.0                      480.0   \n",
       "625                      1394.0       264196.0                      514.0   \n",
       "\n",
       "      kitchen abvgr^2  \n",
       "Id                     \n",
       "2658              4.0  \n",
       "2718              4.0  \n",
       "2414              1.0  \n",
       "1989              1.0  \n",
       "625               1.0  "
      ]
     },
     "execution_count": 71,
     "metadata": {},
     "output_type": "execute_result"
    }
   ],
   "source": [
    "# Transform into a dataframe\n",
    "poly_kaggle_df = pd.DataFrame(poly_kaggle2, columns = polynomial_features.get_feature_names(X_kaggle2.columns), index=X_kaggle2.index)\n",
    "poly_kaggle_df.head()"
   ]
  },
  {
   "cell_type": "code",
   "execution_count": 74,
   "metadata": {},
   "outputs": [],
   "source": [
    "# Drop all rows except:\n",
    "poly_kaggle_df = poly_kaggle_df[['overall qual gr liv area',\n",
    "            'overall qual garage area',\n",
    "            'gr liv area garage area',\n",
    "            'gr liv area',\n",
    "            'overall cond kitchen abvgr']]"
   ]
  },
  {
   "cell_type": "code",
   "execution_count": 75,
   "metadata": {},
   "outputs": [
    {
     "data": {
      "text/html": [
       "<div>\n",
       "<style scoped>\n",
       "    .dataframe tbody tr th:only-of-type {\n",
       "        vertical-align: middle;\n",
       "    }\n",
       "\n",
       "    .dataframe tbody tr th {\n",
       "        vertical-align: top;\n",
       "    }\n",
       "\n",
       "    .dataframe thead th {\n",
       "        text-align: right;\n",
       "    }\n",
       "</style>\n",
       "<table border=\"1\" class=\"dataframe\">\n",
       "  <thead>\n",
       "    <tr style=\"text-align: right;\">\n",
       "      <th></th>\n",
       "      <th>overall qual gr liv area</th>\n",
       "      <th>overall qual garage area</th>\n",
       "      <th>gr liv area garage area</th>\n",
       "      <th>gr liv area</th>\n",
       "      <th>overall cond kitchen abvgr</th>\n",
       "    </tr>\n",
       "    <tr>\n",
       "      <th>Id</th>\n",
       "      <th></th>\n",
       "      <th></th>\n",
       "      <th></th>\n",
       "      <th></th>\n",
       "      <th></th>\n",
       "    </tr>\n",
       "  </thead>\n",
       "  <tbody>\n",
       "    <tr>\n",
       "      <th>2658</th>\n",
       "      <td>11568.0</td>\n",
       "      <td>2640.0</td>\n",
       "      <td>848320.0</td>\n",
       "      <td>1928.0</td>\n",
       "      <td>16.0</td>\n",
       "    </tr>\n",
       "    <tr>\n",
       "      <th>2718</th>\n",
       "      <td>9835.0</td>\n",
       "      <td>2900.0</td>\n",
       "      <td>1140860.0</td>\n",
       "      <td>1967.0</td>\n",
       "      <td>8.0</td>\n",
       "    </tr>\n",
       "    <tr>\n",
       "      <th>2414</th>\n",
       "      <td>10472.0</td>\n",
       "      <td>2982.0</td>\n",
       "      <td>637296.0</td>\n",
       "      <td>1496.0</td>\n",
       "      <td>5.0</td>\n",
       "    </tr>\n",
       "    <tr>\n",
       "      <th>1989</th>\n",
       "      <td>4840.0</td>\n",
       "      <td>2400.0</td>\n",
       "      <td>464640.0</td>\n",
       "      <td>968.0</td>\n",
       "      <td>6.0</td>\n",
       "    </tr>\n",
       "    <tr>\n",
       "      <th>625</th>\n",
       "      <td>8364.0</td>\n",
       "      <td>3084.0</td>\n",
       "      <td>716516.0</td>\n",
       "      <td>1394.0</td>\n",
       "      <td>5.0</td>\n",
       "    </tr>\n",
       "  </tbody>\n",
       "</table>\n",
       "</div>"
      ],
      "text/plain": [
       "      overall qual gr liv area  overall qual garage area  \\\n",
       "Id                                                         \n",
       "2658                   11568.0                    2640.0   \n",
       "2718                    9835.0                    2900.0   \n",
       "2414                   10472.0                    2982.0   \n",
       "1989                    4840.0                    2400.0   \n",
       "625                     8364.0                    3084.0   \n",
       "\n",
       "      gr liv area garage area  gr liv area  overall cond kitchen abvgr  \n",
       "Id                                                                      \n",
       "2658                 848320.0       1928.0                        16.0  \n",
       "2718                1140860.0       1967.0                         8.0  \n",
       "2414                 637296.0       1496.0                         5.0  \n",
       "1989                 464640.0        968.0                         6.0  \n",
       "625                  716516.0       1394.0                         5.0  "
      ]
     },
     "execution_count": 75,
     "metadata": {},
     "output_type": "execute_result"
    }
   ],
   "source": [
    "poly_kaggle_df.head()"
   ]
  },
  {
   "cell_type": "code",
   "execution_count": 76,
   "metadata": {},
   "outputs": [],
   "source": [
    "# Apply standard scalar to kaggle test data\n",
    "X_poly_kaggle_sc = ss.transform(poly_kaggle_df)"
   ]
  },
  {
   "cell_type": "code",
   "execution_count": 77,
   "metadata": {},
   "outputs": [
    {
     "data": {
      "text/html": [
       "<div>\n",
       "<style scoped>\n",
       "    .dataframe tbody tr th:only-of-type {\n",
       "        vertical-align: middle;\n",
       "    }\n",
       "\n",
       "    .dataframe tbody tr th {\n",
       "        vertical-align: top;\n",
       "    }\n",
       "\n",
       "    .dataframe thead th {\n",
       "        text-align: right;\n",
       "    }\n",
       "</style>\n",
       "<table border=\"1\" class=\"dataframe\">\n",
       "  <thead>\n",
       "    <tr style=\"text-align: right;\">\n",
       "      <th></th>\n",
       "      <th>overall qual gr liv area</th>\n",
       "      <th>overall qual garage area</th>\n",
       "      <th>gr liv area garage area</th>\n",
       "      <th>gr liv area</th>\n",
       "      <th>overall cond kitchen abvgr</th>\n",
       "      <th>saleprice</th>\n",
       "    </tr>\n",
       "    <tr>\n",
       "      <th>Id</th>\n",
       "      <th></th>\n",
       "      <th></th>\n",
       "      <th></th>\n",
       "      <th></th>\n",
       "      <th></th>\n",
       "      <th></th>\n",
       "    </tr>\n",
       "  </thead>\n",
       "  <tbody>\n",
       "    <tr>\n",
       "      <th>2658</th>\n",
       "      <td>11568.0</td>\n",
       "      <td>2640.0</td>\n",
       "      <td>848320.0</td>\n",
       "      <td>1928.0</td>\n",
       "      <td>16.0</td>\n",
       "      <td>184211.350585</td>\n",
       "    </tr>\n",
       "    <tr>\n",
       "      <th>2718</th>\n",
       "      <td>9835.0</td>\n",
       "      <td>2900.0</td>\n",
       "      <td>1140860.0</td>\n",
       "      <td>1967.0</td>\n",
       "      <td>8.0</td>\n",
       "      <td>163704.356951</td>\n",
       "    </tr>\n",
       "    <tr>\n",
       "      <th>2414</th>\n",
       "      <td>10472.0</td>\n",
       "      <td>2982.0</td>\n",
       "      <td>637296.0</td>\n",
       "      <td>1496.0</td>\n",
       "      <td>5.0</td>\n",
       "      <td>195843.107004</td>\n",
       "    </tr>\n",
       "    <tr>\n",
       "      <th>1989</th>\n",
       "      <td>4840.0</td>\n",
       "      <td>2400.0</td>\n",
       "      <td>464640.0</td>\n",
       "      <td>968.0</td>\n",
       "      <td>6.0</td>\n",
       "      <td>126523.130105</td>\n",
       "    </tr>\n",
       "    <tr>\n",
       "      <th>625</th>\n",
       "      <td>8364.0</td>\n",
       "      <td>3084.0</td>\n",
       "      <td>716516.0</td>\n",
       "      <td>1394.0</td>\n",
       "      <td>5.0</td>\n",
       "      <td>172612.627406</td>\n",
       "    </tr>\n",
       "  </tbody>\n",
       "</table>\n",
       "</div>"
      ],
      "text/plain": [
       "      overall qual gr liv area  overall qual garage area  \\\n",
       "Id                                                         \n",
       "2658                   11568.0                    2640.0   \n",
       "2718                    9835.0                    2900.0   \n",
       "2414                   10472.0                    2982.0   \n",
       "1989                    4840.0                    2400.0   \n",
       "625                     8364.0                    3084.0   \n",
       "\n",
       "      gr liv area garage area  gr liv area  overall cond kitchen abvgr  \\\n",
       "Id                                                                       \n",
       "2658                 848320.0       1928.0                        16.0   \n",
       "2718                1140860.0       1967.0                         8.0   \n",
       "2414                 637296.0       1496.0                         5.0   \n",
       "1989                 464640.0        968.0                         6.0   \n",
       "625                  716516.0       1394.0                         5.0   \n",
       "\n",
       "          saleprice  \n",
       "Id                   \n",
       "2658  184211.350585  \n",
       "2718  163704.356951  \n",
       "2414  195843.107004  \n",
       "1989  126523.130105  \n",
       "625   172612.627406  "
      ]
     },
     "execution_count": 77,
     "metadata": {},
     "output_type": "execute_result"
    }
   ],
   "source": [
    "# Make predictions and save those predictions to a new column\n",
    "poly_kaggle_df['saleprice'] = lr.predict(X_poly_kaggle_sc)\n",
    "poly_kaggle_df.head()"
   ]
  },
  {
   "cell_type": "code",
   "execution_count": 78,
   "metadata": {},
   "outputs": [
    {
     "data": {
      "text/html": [
       "<div>\n",
       "<style scoped>\n",
       "    .dataframe tbody tr th:only-of-type {\n",
       "        vertical-align: middle;\n",
       "    }\n",
       "\n",
       "    .dataframe tbody tr th {\n",
       "        vertical-align: top;\n",
       "    }\n",
       "\n",
       "    .dataframe thead th {\n",
       "        text-align: right;\n",
       "    }\n",
       "</style>\n",
       "<table border=\"1\" class=\"dataframe\">\n",
       "  <thead>\n",
       "    <tr style=\"text-align: right;\">\n",
       "      <th></th>\n",
       "      <th>saleprice</th>\n",
       "    </tr>\n",
       "    <tr>\n",
       "      <th>Id</th>\n",
       "      <th></th>\n",
       "    </tr>\n",
       "  </thead>\n",
       "  <tbody>\n",
       "    <tr>\n",
       "      <th>2658</th>\n",
       "      <td>184211.350585</td>\n",
       "    </tr>\n",
       "    <tr>\n",
       "      <th>2718</th>\n",
       "      <td>163704.356951</td>\n",
       "    </tr>\n",
       "    <tr>\n",
       "      <th>2414</th>\n",
       "      <td>195843.107004</td>\n",
       "    </tr>\n",
       "    <tr>\n",
       "      <th>1989</th>\n",
       "      <td>126523.130105</td>\n",
       "    </tr>\n",
       "    <tr>\n",
       "      <th>625</th>\n",
       "      <td>172612.627406</td>\n",
       "    </tr>\n",
       "  </tbody>\n",
       "</table>\n",
       "</div>"
      ],
      "text/plain": [
       "          saleprice\n",
       "Id                 \n",
       "2658  184211.350585\n",
       "2718  163704.356951\n",
       "2414  195843.107004\n",
       "1989  126523.130105\n",
       "625   172612.627406"
      ]
     },
     "execution_count": 78,
     "metadata": {},
     "output_type": "execute_result"
    }
   ],
   "source": [
    "# Create a new dataframe of JUST our predictions\n",
    "output2 = poly_kaggle_df[['saleprice']]\n",
    "output2.head()"
   ]
  },
  {
   "cell_type": "code",
   "execution_count": 79,
   "metadata": {},
   "outputs": [],
   "source": [
    "# Saving our predictions to our datasets folder\n",
    "output2.to_csv(\"../data/second_submission.csv\")"
   ]
  },
  {
   "cell_type": "code",
   "execution_count": null,
   "metadata": {},
   "outputs": [],
   "source": []
  },
  {
   "cell_type": "code",
   "execution_count": null,
   "metadata": {},
   "outputs": [],
   "source": []
  }
 ],
 "metadata": {
  "kernelspec": {
   "display_name": "Python 3",
   "language": "python",
   "name": "python3"
  },
  "language_info": {
   "codemirror_mode": {
    "name": "ipython",
    "version": 3
   },
   "file_extension": ".py",
   "mimetype": "text/x-python",
   "name": "python",
   "nbconvert_exporter": "python",
   "pygments_lexer": "ipython3",
   "version": "3.7.6"
  },
  "toc": {
   "base_numbering": 1,
   "nav_menu": {},
   "number_sections": true,
   "sideBar": true,
   "skip_h1_title": false,
   "title_cell": "Table of Contents",
   "title_sidebar": "Contents",
   "toc_cell": false,
   "toc_position": {},
   "toc_section_display": true,
   "toc_window_display": true
  },
  "varInspector": {
   "cols": {
    "lenName": 16,
    "lenType": 16,
    "lenVar": 40
   },
   "kernels_config": {
    "python": {
     "delete_cmd_postfix": "",
     "delete_cmd_prefix": "del ",
     "library": "var_list.py",
     "varRefreshCmd": "print(var_dic_list())"
    },
    "r": {
     "delete_cmd_postfix": ") ",
     "delete_cmd_prefix": "rm(",
     "library": "var_list.r",
     "varRefreshCmd": "cat(var_dic_list()) "
    }
   },
   "types_to_exclude": [
    "module",
    "function",
    "builtin_function_or_method",
    "instance",
    "_Feature"
   ],
   "window_display": false
  }
 },
 "nbformat": 4,
 "nbformat_minor": 2
}
